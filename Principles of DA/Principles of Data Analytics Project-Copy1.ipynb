{
 "cells": [
  {
   "cell_type": "code",
   "execution_count": 2,
   "metadata": {},
   "outputs": [
    {
     "data": {
      "text/html": [
       "<div>\n",
       "<style scoped>\n",
       "    .dataframe tbody tr th:only-of-type {\n",
       "        vertical-align: middle;\n",
       "    }\n",
       "\n",
       "    .dataframe tbody tr th {\n",
       "        vertical-align: top;\n",
       "    }\n",
       "\n",
       "    .dataframe thead th {\n",
       "        text-align: right;\n",
       "    }\n",
       "</style>\n",
       "<table border=\"1\" class=\"dataframe\">\n",
       "  <thead>\n",
       "    <tr style=\"text-align: right;\">\n",
       "      <th></th>\n",
       "      <th>ï»¿country</th>\n",
       "      <th>year</th>\n",
       "      <th>sex</th>\n",
       "      <th>age</th>\n",
       "      <th>suicides_no</th>\n",
       "      <th>population</th>\n",
       "      <th>suicides/100k pop</th>\n",
       "      <th>country-year</th>\n",
       "      <th>HDI for year</th>\n",
       "      <th>gdp_for_year ($)</th>\n",
       "      <th>gdp_per_capita ($)</th>\n",
       "      <th>generation</th>\n",
       "    </tr>\n",
       "  </thead>\n",
       "  <tbody>\n",
       "    <tr>\n",
       "      <th>0</th>\n",
       "      <td>Albania</td>\n",
       "      <td>1987</td>\n",
       "      <td>male</td>\n",
       "      <td>15-24 years</td>\n",
       "      <td>21</td>\n",
       "      <td>312900</td>\n",
       "      <td>6.71</td>\n",
       "      <td>Albania1987</td>\n",
       "      <td>NaN</td>\n",
       "      <td>2,156,624,900</td>\n",
       "      <td>796</td>\n",
       "      <td>Generation X</td>\n",
       "    </tr>\n",
       "    <tr>\n",
       "      <th>1</th>\n",
       "      <td>Albania</td>\n",
       "      <td>1987</td>\n",
       "      <td>male</td>\n",
       "      <td>35-54 years</td>\n",
       "      <td>16</td>\n",
       "      <td>308000</td>\n",
       "      <td>5.19</td>\n",
       "      <td>Albania1987</td>\n",
       "      <td>NaN</td>\n",
       "      <td>2,156,624,900</td>\n",
       "      <td>796</td>\n",
       "      <td>Silent</td>\n",
       "    </tr>\n",
       "    <tr>\n",
       "      <th>2</th>\n",
       "      <td>Albania</td>\n",
       "      <td>1987</td>\n",
       "      <td>female</td>\n",
       "      <td>15-24 years</td>\n",
       "      <td>14</td>\n",
       "      <td>289700</td>\n",
       "      <td>4.83</td>\n",
       "      <td>Albania1987</td>\n",
       "      <td>NaN</td>\n",
       "      <td>2,156,624,900</td>\n",
       "      <td>796</td>\n",
       "      <td>Generation X</td>\n",
       "    </tr>\n",
       "    <tr>\n",
       "      <th>3</th>\n",
       "      <td>Albania</td>\n",
       "      <td>1987</td>\n",
       "      <td>male</td>\n",
       "      <td>75+ years</td>\n",
       "      <td>1</td>\n",
       "      <td>21800</td>\n",
       "      <td>4.59</td>\n",
       "      <td>Albania1987</td>\n",
       "      <td>NaN</td>\n",
       "      <td>2,156,624,900</td>\n",
       "      <td>796</td>\n",
       "      <td>G.I. Generation</td>\n",
       "    </tr>\n",
       "    <tr>\n",
       "      <th>4</th>\n",
       "      <td>Albania</td>\n",
       "      <td>1987</td>\n",
       "      <td>male</td>\n",
       "      <td>25-34 years</td>\n",
       "      <td>9</td>\n",
       "      <td>274300</td>\n",
       "      <td>3.28</td>\n",
       "      <td>Albania1987</td>\n",
       "      <td>NaN</td>\n",
       "      <td>2,156,624,900</td>\n",
       "      <td>796</td>\n",
       "      <td>Boomers</td>\n",
       "    </tr>\n",
       "  </tbody>\n",
       "</table>\n",
       "</div>"
      ],
      "text/plain": [
       "  ï»¿country  year     sex          age  suicides_no  population  \\\n",
       "0    Albania  1987    male  15-24 years           21      312900   \n",
       "1    Albania  1987    male  35-54 years           16      308000   \n",
       "2    Albania  1987  female  15-24 years           14      289700   \n",
       "3    Albania  1987    male    75+ years            1       21800   \n",
       "4    Albania  1987    male  25-34 years            9      274300   \n",
       "\n",
       "   suicides/100k pop country-year  HDI for year  gdp_for_year ($)   \\\n",
       "0               6.71  Albania1987           NaN      2,156,624,900   \n",
       "1               5.19  Albania1987           NaN      2,156,624,900   \n",
       "2               4.83  Albania1987           NaN      2,156,624,900   \n",
       "3               4.59  Albania1987           NaN      2,156,624,900   \n",
       "4               3.28  Albania1987           NaN      2,156,624,900   \n",
       "\n",
       "   gdp_per_capita ($)       generation  \n",
       "0                 796     Generation X  \n",
       "1                 796           Silent  \n",
       "2                 796     Generation X  \n",
       "3                 796  G.I. Generation  \n",
       "4                 796          Boomers  "
      ]
     },
     "execution_count": 2,
     "metadata": {},
     "output_type": "execute_result"
    }
   ],
   "source": [
    "#import libraries\n",
    "import pandas as pd\n",
    "import numpy as np\n",
    "\n",
    "dataset = pd.read_csv('master 2.csv', encoding='latin1')\n",
    "#give out dataset head\n",
    "dataset.head()"
   ]
  },
  {
   "cell_type": "code",
   "execution_count": 3,
   "metadata": {},
   "outputs": [],
   "source": [
    "# get sum for suicides and population, per country & year\n",
    "dataset['Suicides_no_total'] = dataset['suicides_no'].groupby(dataset['country-year']).transform('sum')\n",
    "dataset['population_total'] = dataset['population'].groupby(dataset['country-year']).transform('sum')"
   ]
  },
  {
   "cell_type": "code",
   "execution_count": 4,
   "metadata": {},
   "outputs": [
    {
     "data": {
      "text/html": [
       "<div>\n",
       "<style scoped>\n",
       "    .dataframe tbody tr th:only-of-type {\n",
       "        vertical-align: middle;\n",
       "    }\n",
       "\n",
       "    .dataframe tbody tr th {\n",
       "        vertical-align: top;\n",
       "    }\n",
       "\n",
       "    .dataframe thead th {\n",
       "        text-align: right;\n",
       "    }\n",
       "</style>\n",
       "<table border=\"1\" class=\"dataframe\">\n",
       "  <thead>\n",
       "    <tr style=\"text-align: right;\">\n",
       "      <th></th>\n",
       "      <th>ï»¿country</th>\n",
       "      <th>year</th>\n",
       "      <th>sex</th>\n",
       "      <th>age</th>\n",
       "      <th>suicides_no</th>\n",
       "      <th>population</th>\n",
       "      <th>suicides/100k pop</th>\n",
       "      <th>country-year</th>\n",
       "      <th>HDI for year</th>\n",
       "      <th>gdp_for_year ($)</th>\n",
       "      <th>gdp_per_capita ($)</th>\n",
       "      <th>generation</th>\n",
       "      <th>Suicides_no_total</th>\n",
       "      <th>population_total</th>\n",
       "    </tr>\n",
       "  </thead>\n",
       "  <tbody>\n",
       "    <tr>\n",
       "      <th>0</th>\n",
       "      <td>Albania</td>\n",
       "      <td>1987</td>\n",
       "      <td>male</td>\n",
       "      <td>15-24 years</td>\n",
       "      <td>21</td>\n",
       "      <td>312900</td>\n",
       "      <td>6.71</td>\n",
       "      <td>Albania1987</td>\n",
       "      <td>NaN</td>\n",
       "      <td>2,156,624,900</td>\n",
       "      <td>796</td>\n",
       "      <td>Generation X</td>\n",
       "      <td>73</td>\n",
       "      <td>2709600</td>\n",
       "    </tr>\n",
       "    <tr>\n",
       "      <th>1</th>\n",
       "      <td>Albania</td>\n",
       "      <td>1987</td>\n",
       "      <td>male</td>\n",
       "      <td>35-54 years</td>\n",
       "      <td>16</td>\n",
       "      <td>308000</td>\n",
       "      <td>5.19</td>\n",
       "      <td>Albania1987</td>\n",
       "      <td>NaN</td>\n",
       "      <td>2,156,624,900</td>\n",
       "      <td>796</td>\n",
       "      <td>Silent</td>\n",
       "      <td>73</td>\n",
       "      <td>2709600</td>\n",
       "    </tr>\n",
       "    <tr>\n",
       "      <th>2</th>\n",
       "      <td>Albania</td>\n",
       "      <td>1987</td>\n",
       "      <td>female</td>\n",
       "      <td>15-24 years</td>\n",
       "      <td>14</td>\n",
       "      <td>289700</td>\n",
       "      <td>4.83</td>\n",
       "      <td>Albania1987</td>\n",
       "      <td>NaN</td>\n",
       "      <td>2,156,624,900</td>\n",
       "      <td>796</td>\n",
       "      <td>Generation X</td>\n",
       "      <td>73</td>\n",
       "      <td>2709600</td>\n",
       "    </tr>\n",
       "    <tr>\n",
       "      <th>3</th>\n",
       "      <td>Albania</td>\n",
       "      <td>1987</td>\n",
       "      <td>male</td>\n",
       "      <td>75+ years</td>\n",
       "      <td>1</td>\n",
       "      <td>21800</td>\n",
       "      <td>4.59</td>\n",
       "      <td>Albania1987</td>\n",
       "      <td>NaN</td>\n",
       "      <td>2,156,624,900</td>\n",
       "      <td>796</td>\n",
       "      <td>G.I. Generation</td>\n",
       "      <td>73</td>\n",
       "      <td>2709600</td>\n",
       "    </tr>\n",
       "    <tr>\n",
       "      <th>4</th>\n",
       "      <td>Albania</td>\n",
       "      <td>1987</td>\n",
       "      <td>male</td>\n",
       "      <td>25-34 years</td>\n",
       "      <td>9</td>\n",
       "      <td>274300</td>\n",
       "      <td>3.28</td>\n",
       "      <td>Albania1987</td>\n",
       "      <td>NaN</td>\n",
       "      <td>2,156,624,900</td>\n",
       "      <td>796</td>\n",
       "      <td>Boomers</td>\n",
       "      <td>73</td>\n",
       "      <td>2709600</td>\n",
       "    </tr>\n",
       "  </tbody>\n",
       "</table>\n",
       "</div>"
      ],
      "text/plain": [
       "  ï»¿country  year     sex          age  suicides_no  population  \\\n",
       "0    Albania  1987    male  15-24 years           21      312900   \n",
       "1    Albania  1987    male  35-54 years           16      308000   \n",
       "2    Albania  1987  female  15-24 years           14      289700   \n",
       "3    Albania  1987    male    75+ years            1       21800   \n",
       "4    Albania  1987    male  25-34 years            9      274300   \n",
       "\n",
       "   suicides/100k pop country-year  HDI for year  gdp_for_year ($)   \\\n",
       "0               6.71  Albania1987           NaN      2,156,624,900   \n",
       "1               5.19  Albania1987           NaN      2,156,624,900   \n",
       "2               4.83  Albania1987           NaN      2,156,624,900   \n",
       "3               4.59  Albania1987           NaN      2,156,624,900   \n",
       "4               3.28  Albania1987           NaN      2,156,624,900   \n",
       "\n",
       "   gdp_per_capita ($)       generation  Suicides_no_total  population_total  \n",
       "0                 796     Generation X                 73           2709600  \n",
       "1                 796           Silent                 73           2709600  \n",
       "2                 796     Generation X                 73           2709600  \n",
       "3                 796  G.I. Generation                 73           2709600  \n",
       "4                 796          Boomers                 73           2709600  "
      ]
     },
     "execution_count": 4,
     "metadata": {},
     "output_type": "execute_result"
    }
   ],
   "source": [
    "dataset.head()"
   ]
  },
  {
   "cell_type": "code",
   "execution_count": 5,
   "metadata": {},
   "outputs": [],
   "source": [
    "dataset['suicide_rate_per_head'] = dataset['Suicides_no_total']/dataset['population_total']"
   ]
  },
  {
   "cell_type": "code",
   "execution_count": 6,
   "metadata": {},
   "outputs": [
    {
     "data": {
      "text/html": [
       "<div>\n",
       "<style scoped>\n",
       "    .dataframe tbody tr th:only-of-type {\n",
       "        vertical-align: middle;\n",
       "    }\n",
       "\n",
       "    .dataframe tbody tr th {\n",
       "        vertical-align: top;\n",
       "    }\n",
       "\n",
       "    .dataframe thead th {\n",
       "        text-align: right;\n",
       "    }\n",
       "</style>\n",
       "<table border=\"1\" class=\"dataframe\">\n",
       "  <thead>\n",
       "    <tr style=\"text-align: right;\">\n",
       "      <th></th>\n",
       "      <th>ï»¿country</th>\n",
       "      <th>year</th>\n",
       "      <th>sex</th>\n",
       "      <th>age</th>\n",
       "      <th>suicides_no</th>\n",
       "      <th>population</th>\n",
       "      <th>suicides/100k pop</th>\n",
       "      <th>country-year</th>\n",
       "      <th>HDI for year</th>\n",
       "      <th>gdp_for_year ($)</th>\n",
       "      <th>gdp_per_capita ($)</th>\n",
       "      <th>generation</th>\n",
       "      <th>Suicides_no_total</th>\n",
       "      <th>population_total</th>\n",
       "      <th>suicide_rate_per_head</th>\n",
       "    </tr>\n",
       "  </thead>\n",
       "  <tbody>\n",
       "    <tr>\n",
       "      <th>0</th>\n",
       "      <td>Albania</td>\n",
       "      <td>1987</td>\n",
       "      <td>male</td>\n",
       "      <td>15-24 years</td>\n",
       "      <td>21</td>\n",
       "      <td>312900</td>\n",
       "      <td>6.71</td>\n",
       "      <td>Albania1987</td>\n",
       "      <td>NaN</td>\n",
       "      <td>2,156,624,900</td>\n",
       "      <td>796</td>\n",
       "      <td>Generation X</td>\n",
       "      <td>73</td>\n",
       "      <td>2709600</td>\n",
       "      <td>0.000027</td>\n",
       "    </tr>\n",
       "    <tr>\n",
       "      <th>1</th>\n",
       "      <td>Albania</td>\n",
       "      <td>1987</td>\n",
       "      <td>male</td>\n",
       "      <td>35-54 years</td>\n",
       "      <td>16</td>\n",
       "      <td>308000</td>\n",
       "      <td>5.19</td>\n",
       "      <td>Albania1987</td>\n",
       "      <td>NaN</td>\n",
       "      <td>2,156,624,900</td>\n",
       "      <td>796</td>\n",
       "      <td>Silent</td>\n",
       "      <td>73</td>\n",
       "      <td>2709600</td>\n",
       "      <td>0.000027</td>\n",
       "    </tr>\n",
       "    <tr>\n",
       "      <th>2</th>\n",
       "      <td>Albania</td>\n",
       "      <td>1987</td>\n",
       "      <td>female</td>\n",
       "      <td>15-24 years</td>\n",
       "      <td>14</td>\n",
       "      <td>289700</td>\n",
       "      <td>4.83</td>\n",
       "      <td>Albania1987</td>\n",
       "      <td>NaN</td>\n",
       "      <td>2,156,624,900</td>\n",
       "      <td>796</td>\n",
       "      <td>Generation X</td>\n",
       "      <td>73</td>\n",
       "      <td>2709600</td>\n",
       "      <td>0.000027</td>\n",
       "    </tr>\n",
       "    <tr>\n",
       "      <th>3</th>\n",
       "      <td>Albania</td>\n",
       "      <td>1987</td>\n",
       "      <td>male</td>\n",
       "      <td>75+ years</td>\n",
       "      <td>1</td>\n",
       "      <td>21800</td>\n",
       "      <td>4.59</td>\n",
       "      <td>Albania1987</td>\n",
       "      <td>NaN</td>\n",
       "      <td>2,156,624,900</td>\n",
       "      <td>796</td>\n",
       "      <td>G.I. Generation</td>\n",
       "      <td>73</td>\n",
       "      <td>2709600</td>\n",
       "      <td>0.000027</td>\n",
       "    </tr>\n",
       "    <tr>\n",
       "      <th>4</th>\n",
       "      <td>Albania</td>\n",
       "      <td>1987</td>\n",
       "      <td>male</td>\n",
       "      <td>25-34 years</td>\n",
       "      <td>9</td>\n",
       "      <td>274300</td>\n",
       "      <td>3.28</td>\n",
       "      <td>Albania1987</td>\n",
       "      <td>NaN</td>\n",
       "      <td>2,156,624,900</td>\n",
       "      <td>796</td>\n",
       "      <td>Boomers</td>\n",
       "      <td>73</td>\n",
       "      <td>2709600</td>\n",
       "      <td>0.000027</td>\n",
       "    </tr>\n",
       "  </tbody>\n",
       "</table>\n",
       "</div>"
      ],
      "text/plain": [
       "  ï»¿country  year     sex          age  suicides_no  population  \\\n",
       "0    Albania  1987    male  15-24 years           21      312900   \n",
       "1    Albania  1987    male  35-54 years           16      308000   \n",
       "2    Albania  1987  female  15-24 years           14      289700   \n",
       "3    Albania  1987    male    75+ years            1       21800   \n",
       "4    Albania  1987    male  25-34 years            9      274300   \n",
       "\n",
       "   suicides/100k pop country-year  HDI for year  gdp_for_year ($)   \\\n",
       "0               6.71  Albania1987           NaN      2,156,624,900   \n",
       "1               5.19  Albania1987           NaN      2,156,624,900   \n",
       "2               4.83  Albania1987           NaN      2,156,624,900   \n",
       "3               4.59  Albania1987           NaN      2,156,624,900   \n",
       "4               3.28  Albania1987           NaN      2,156,624,900   \n",
       "\n",
       "   gdp_per_capita ($)       generation  Suicides_no_total  population_total  \\\n",
       "0                 796     Generation X                 73           2709600   \n",
       "1                 796           Silent                 73           2709600   \n",
       "2                 796     Generation X                 73           2709600   \n",
       "3                 796  G.I. Generation                 73           2709600   \n",
       "4                 796          Boomers                 73           2709600   \n",
       "\n",
       "   suicide_rate_per_head  \n",
       "0               0.000027  \n",
       "1               0.000027  \n",
       "2               0.000027  \n",
       "3               0.000027  \n",
       "4               0.000027  "
      ]
     },
     "execution_count": 6,
     "metadata": {},
     "output_type": "execute_result"
    }
   ],
   "source": [
    "dataset.head()"
   ]
  },
  {
   "cell_type": "code",
   "execution_count": 7,
   "metadata": {},
   "outputs": [
    {
     "data": {
      "text/plain": [
       "(27820, 15)"
      ]
     },
     "execution_count": 7,
     "metadata": {},
     "output_type": "execute_result"
    }
   ],
   "source": [
    "#drop outliers with 0 suicides\n",
    "dataset.shape"
   ]
  },
  {
   "cell_type": "code",
   "execution_count": 8,
   "metadata": {},
   "outputs": [],
   "source": [
    "#drop outliers with 0 suicides\n",
    "new_df =dataset[dataset['Suicides_no_total'] !=0]\n",
    "#comment: doesn't matter that much! "
   ]
  },
  {
   "cell_type": "code",
   "execution_count": 9,
   "metadata": {},
   "outputs": [
    {
     "data": {
      "text/plain": [
       "(27042, 15)"
      ]
     },
     "execution_count": 9,
     "metadata": {},
     "output_type": "execute_result"
    }
   ],
   "source": [
    "#drop outliers with 0 suicides\n",
    "new_df.shape"
   ]
  },
  {
   "cell_type": "code",
   "execution_count": 10,
   "metadata": {},
   "outputs": [],
   "source": [
    "#drop outliers with 0 suicides\n",
    "#new_df =dataset[dataset['Suicides_no_total'] !=0]\n",
    "\n",
    "# delete unnecessary columns\n",
    "del new_df['sex']\n",
    "del new_df['age']\n",
    "del new_df['suicides/100k pop']\n",
    "del new_df['generation']\n",
    "del new_df[' gdp_for_year ($) ']\n",
    "del new_df['suicides_no']\n",
    "del new_df['population']\n",
    "del new_df['ï»¿country']\n",
    "del new_df['country-year']\n",
    "del new_df['Suicides_no_total']\n",
    "del new_df['population_total']\n",
    "\n",
    "#get 3 datasets:\n",
    "GDP_data = new_df.copy()\n",
    "HDI_data = new_df.copy()\n",
    "both_data = new_df.copy()\n",
    "\n",
    "#GDP:\n",
    "#drop empty rows\n",
    "GDP_data.dropna(subset = [\"gdp_per_capita ($)\"], inplace=True)\n",
    "#only get rows with unique values\n",
    "GDP_data = GDP_data.drop_duplicates()\n",
    "del GDP_data['HDI for year']\n",
    "\n",
    "#HDI: \n",
    "#drop empty rows\n",
    "HDI_data.dropna(subset = [\"HDI for year\"], inplace=True)\n",
    "#only get rows with unique values\n",
    "HDI_data = HDI_data.drop_duplicates()\n",
    "del HDI_data['gdp_per_capita ($)']\n",
    "\n",
    "#both:\n",
    "both_data.dropna(subset = [\"HDI for year\"], inplace=True)\n",
    "both_data.dropna(subset = [\"gdp_per_capita ($)\"], inplace=True)\n",
    "both_data = both_data.drop_duplicates()\n",
    "\n",
    "#year\n",
    "GDP_data_2014 = GDP_data.loc[GDP_data['year'] == 2014]\n",
    "HDI_data_2014 = HDI_data.loc[HDI_data['year'] == 2014]\n",
    "both_data_2014 = both_data.loc[both_data['year'] == 2014]\n",
    "\n",
    "del GDP_data_2014['year']\n",
    "del HDI_data_2014['year']\n",
    "del both_data_2014['year']"
   ]
  },
  {
   "cell_type": "code",
   "execution_count": 11,
   "metadata": {},
   "outputs": [
    {
     "data": {
      "text/html": [
       "<div>\n",
       "<style scoped>\n",
       "    .dataframe tbody tr th:only-of-type {\n",
       "        vertical-align: middle;\n",
       "    }\n",
       "\n",
       "    .dataframe tbody tr th {\n",
       "        vertical-align: top;\n",
       "    }\n",
       "\n",
       "    .dataframe thead th {\n",
       "        text-align: right;\n",
       "    }\n",
       "</style>\n",
       "<table border=\"1\" class=\"dataframe\">\n",
       "  <thead>\n",
       "    <tr style=\"text-align: right;\">\n",
       "      <th></th>\n",
       "      <th>gdp_per_capita ($)</th>\n",
       "      <th>suicide_rate_per_head</th>\n",
       "    </tr>\n",
       "  </thead>\n",
       "  <tbody>\n",
       "    <tr>\n",
       "      <th>936</th>\n",
       "      <td>13400</td>\n",
       "      <td>0.000082</td>\n",
       "    </tr>\n",
       "    <tr>\n",
       "      <th>1224</th>\n",
       "      <td>4142</td>\n",
       "      <td>0.000021</td>\n",
       "    </tr>\n",
       "    <tr>\n",
       "      <th>1762</th>\n",
       "      <td>66809</td>\n",
       "      <td>0.000132</td>\n",
       "    </tr>\n",
       "    <tr>\n",
       "      <th>2134</th>\n",
       "      <td>54278</td>\n",
       "      <td>0.000161</td>\n",
       "    </tr>\n",
       "    <tr>\n",
       "      <th>2876</th>\n",
       "      <td>27503</td>\n",
       "      <td>0.000007</td>\n",
       "    </tr>\n",
       "  </tbody>\n",
       "</table>\n",
       "</div>"
      ],
      "text/plain": [
       "      gdp_per_capita ($)  suicide_rate_per_head\n",
       "936                13400               0.000082\n",
       "1224                4142               0.000021\n",
       "1762               66809               0.000132\n",
       "2134               54278               0.000161\n",
       "2876               27503               0.000007"
      ]
     },
     "execution_count": 11,
     "metadata": {},
     "output_type": "execute_result"
    }
   ],
   "source": [
    "GDP_data_2014.head()"
   ]
  },
  {
   "cell_type": "code",
   "execution_count": 12,
   "metadata": {},
   "outputs": [
    {
     "data": {
      "text/html": [
       "<div>\n",
       "<style scoped>\n",
       "    .dataframe tbody tr th:only-of-type {\n",
       "        vertical-align: middle;\n",
       "    }\n",
       "\n",
       "    .dataframe tbody tr th {\n",
       "        vertical-align: top;\n",
       "    }\n",
       "\n",
       "    .dataframe thead th {\n",
       "        text-align: right;\n",
       "    }\n",
       "</style>\n",
       "<table border=\"1\" class=\"dataframe\">\n",
       "  <thead>\n",
       "    <tr style=\"text-align: right;\">\n",
       "      <th></th>\n",
       "      <th>HDI for year</th>\n",
       "      <th>suicide_rate_per_head</th>\n",
       "    </tr>\n",
       "  </thead>\n",
       "  <tbody>\n",
       "    <tr>\n",
       "      <th>936</th>\n",
       "      <td>0.836</td>\n",
       "      <td>0.000082</td>\n",
       "    </tr>\n",
       "    <tr>\n",
       "      <th>1224</th>\n",
       "      <td>0.733</td>\n",
       "      <td>0.000021</td>\n",
       "    </tr>\n",
       "    <tr>\n",
       "      <th>1762</th>\n",
       "      <td>0.935</td>\n",
       "      <td>0.000132</td>\n",
       "    </tr>\n",
       "    <tr>\n",
       "      <th>2134</th>\n",
       "      <td>0.885</td>\n",
       "      <td>0.000161</td>\n",
       "    </tr>\n",
       "    <tr>\n",
       "      <th>2876</th>\n",
       "      <td>0.824</td>\n",
       "      <td>0.000007</td>\n",
       "    </tr>\n",
       "  </tbody>\n",
       "</table>\n",
       "</div>"
      ],
      "text/plain": [
       "      HDI for year  suicide_rate_per_head\n",
       "936          0.836               0.000082\n",
       "1224         0.733               0.000021\n",
       "1762         0.935               0.000132\n",
       "2134         0.885               0.000161\n",
       "2876         0.824               0.000007"
      ]
     },
     "execution_count": 12,
     "metadata": {},
     "output_type": "execute_result"
    }
   ],
   "source": [
    "HDI_data_2014.head()\n",
    "#HDI_data.head()"
   ]
  },
  {
   "cell_type": "code",
   "execution_count": 13,
   "metadata": {},
   "outputs": [
    {
     "data": {
      "text/html": [
       "<div>\n",
       "<style scoped>\n",
       "    .dataframe tbody tr th:only-of-type {\n",
       "        vertical-align: middle;\n",
       "    }\n",
       "\n",
       "    .dataframe tbody tr th {\n",
       "        vertical-align: top;\n",
       "    }\n",
       "\n",
       "    .dataframe thead th {\n",
       "        text-align: right;\n",
       "    }\n",
       "</style>\n",
       "<table border=\"1\" class=\"dataframe\">\n",
       "  <thead>\n",
       "    <tr style=\"text-align: right;\">\n",
       "      <th></th>\n",
       "      <th>HDI for year</th>\n",
       "      <th>gdp_per_capita ($)</th>\n",
       "      <th>suicide_rate_per_head</th>\n",
       "    </tr>\n",
       "  </thead>\n",
       "  <tbody>\n",
       "    <tr>\n",
       "      <th>936</th>\n",
       "      <td>0.836</td>\n",
       "      <td>13400</td>\n",
       "      <td>0.000082</td>\n",
       "    </tr>\n",
       "    <tr>\n",
       "      <th>1224</th>\n",
       "      <td>0.733</td>\n",
       "      <td>4142</td>\n",
       "      <td>0.000021</td>\n",
       "    </tr>\n",
       "    <tr>\n",
       "      <th>1762</th>\n",
       "      <td>0.935</td>\n",
       "      <td>66809</td>\n",
       "      <td>0.000132</td>\n",
       "    </tr>\n",
       "    <tr>\n",
       "      <th>2134</th>\n",
       "      <td>0.885</td>\n",
       "      <td>54278</td>\n",
       "      <td>0.000161</td>\n",
       "    </tr>\n",
       "    <tr>\n",
       "      <th>2876</th>\n",
       "      <td>0.824</td>\n",
       "      <td>27503</td>\n",
       "      <td>0.000007</td>\n",
       "    </tr>\n",
       "  </tbody>\n",
       "</table>\n",
       "</div>"
      ],
      "text/plain": [
       "      HDI for year  gdp_per_capita ($)  suicide_rate_per_head\n",
       "936          0.836               13400               0.000082\n",
       "1224         0.733                4142               0.000021\n",
       "1762         0.935               66809               0.000132\n",
       "2134         0.885               54278               0.000161\n",
       "2876         0.824               27503               0.000007"
      ]
     },
     "execution_count": 13,
     "metadata": {},
     "output_type": "execute_result"
    }
   ],
   "source": [
    "both_data_2014.head()"
   ]
  },
  {
   "cell_type": "markdown",
   "metadata": {},
   "source": [
    "# Prepare Data for Simple Linear Regression"
   ]
  },
  {
   "cell_type": "markdown",
   "metadata": {},
   "source": [
    "## Linearity"
   ]
  },
  {
   "cell_type": "code",
   "execution_count": 13,
   "metadata": {},
   "outputs": [],
   "source": [
    "#@Pavlo: Did I check correctly with scatter plot that there is linearity?"
   ]
  },
  {
   "cell_type": "code",
   "execution_count": 27,
   "metadata": {},
   "outputs": [
    {
     "data": {
      "image/png": "[encoded data removed]",
      "text/plain": [
       "<Figure size 360x360 with 6 Axes>"
      ]
     },
     "metadata": {
      "needs_background": "light"
     },
     "output_type": "display_data"
    }
   ],
   "source": [
    "import numpy as np\n",
    "import matplotlib.pyplot as plt\n",
    "import pandas as pd\n",
    "\n",
    "#Make a pair plot from the seaborn package\n",
    "import seaborn as sea \n",
    "sea.pairplot(GDP_data_2014, kind = \"reg\")\n",
    "plt.show()"
   ]
  },
  {
   "cell_type": "code",
   "execution_count": 28,
   "metadata": {},
   "outputs": [
    {
     "data": {
      "text/plain": [
       "Text(0.5, 0, 'gdp_per_capita ($)')"
      ]
     },
     "execution_count": 28,
     "metadata": {},
     "output_type": "execute_result"
    },
    {
     "data": {
      "image/png": "[encoded data removed]",
      "text/plain": [
       "<Figure size 432x288 with 1 Axes>"
      ]
     },
     "metadata": {
      "needs_background": "light"
     },
     "output_type": "display_data"
    }
   ],
   "source": [
    "import numpy as np\n",
    "import matplotlib.pyplot as plt\n",
    "import pandas as pd\n",
    "\n",
    "#Make a pair plot from the seaborn package\n",
    "import seaborn as sea \n",
    "\n",
    "n, bins, patches = plt.hist(GDP_data_2014[\"gdp_per_capita ($)\"])\n",
    "plt.ylabel('Frequency')\n",
    "plt.xlabel('gdp_per_capita ($)')"
   ]
  },
  {
   "cell_type": "code",
   "execution_count": 29,
   "metadata": {},
   "outputs": [
    {
     "data": {
      "text/plain": [
       "Text(0.5, 0, 'suicide_rate_per_head')"
      ]
     },
     "execution_count": 29,
     "metadata": {},
     "output_type": "execute_result"
    },
    {
     "data": {
      "image/png": "[encoded data removed]",
      "text/plain": [
       "<Figure size 432x288 with 1 Axes>"
      ]
     },
     "metadata": {
      "needs_background": "light"
     },
     "output_type": "display_data"
    }
   ],
   "source": [
    "import numpy as np\n",
    "import matplotlib.pyplot as plt\n",
    "import pandas as pd\n",
    "\n",
    "#Make a pair plot from the seaborn package\n",
    "import seaborn as sea \n",
    "\n",
    "\n",
    "n, bins, patches = plt.hist(GDP_data_2014[\"suicide_rate_per_head\"])\n",
    "plt.ylabel('Frequency')\n",
    "plt.xlabel('suicide_rate_per_head')"
   ]
  },
  {
   "cell_type": "code",
   "execution_count": 30,
   "metadata": {},
   "outputs": [
    {
     "data": {
      "text/plain": [
       "Text(0.5, 0, 'HDI for year')"
      ]
     },
     "execution_count": 30,
     "metadata": {},
     "output_type": "execute_result"
    },
    {
     "data": {
      "image/png": "[encoded data removed]",
      "text/plain": [
       "<Figure size 432x288 with 1 Axes>"
      ]
     },
     "metadata": {
      "needs_background": "light"
     },
     "output_type": "display_data"
    }
   ],
   "source": [
    "import numpy as np\n",
    "import matplotlib.pyplot as plt\n",
    "import pandas as pd\n",
    "\n",
    "#Make a pair plot from the seaborn package\n",
    "import seaborn as sea \n",
    "\n",
    "\n",
    "n, bins, patches = plt.hist(HDI_data_2014[\"HDI for year\"])\n",
    "plt.ylabel('Frequency')\n",
    "plt.xlabel('HDI for year')\n"
   ]
  },
  {
   "cell_type": "code",
   "execution_count": 35,
   "metadata": {},
   "outputs": [
    {
     "data": {
      "image/png": "[encoded data removed]",
      "text/plain": [
       "<Figure size 360x360 with 6 Axes>"
      ]
     },
     "metadata": {
      "needs_background": "light"
     },
     "output_type": "display_data"
    },
    {
     "data": {
      "text/plain": [
       "Text(0.5, 0, 'gdp_per_capita ($)')"
      ]
     },
     "execution_count": 35,
     "metadata": {},
     "output_type": "execute_result"
    },
    {
     "data": {
      "image/png": "[encoded data removed]",
      "text/plain": [
       "<Figure size 432x288 with 1 Axes>"
      ]
     },
     "metadata": {
      "needs_background": "light"
     },
     "output_type": "display_data"
    }
   ],
   "source": [
    "# data is skewed, so log transformation\n",
    "#Transform both varaibles to log\n",
    "GDP_data_2014_log = pd.DataFrame()\n",
    "\n",
    "#We perform a log(x+1) tranformation since values of 0 would give inf\n",
    "GDP_data_2014_log[[\"gdp_per_capita ($)\"]] = np.log(GDP_data_2014[[\"gdp_per_capita ($)\"]]+1)\n",
    "GDP_data_2014_log[[\"suicide_rate_per_head\"]] = np.log(GDP_data_2014[[\"suicide_rate_per_head\"]]+1)\n",
    "\n",
    "#Build the seaborn plot again\n",
    "sea.pairplot(GDP_data_2014_log, kind = \"reg\")\n",
    "plt.show()\n",
    "\n",
    "n, bins, patches = plt.hist(GDP_data_2014_log[\"gdp_per_capita ($)\"])\n",
    "plt.ylabel('Frequency')\n",
    "plt.xlabel('gdp_per_capita ($)')"
   ]
  },
  {
   "cell_type": "markdown",
   "metadata": {},
   "source": [
    "### HDI"
   ]
  },
  {
   "cell_type": "code",
   "execution_count": 32,
   "metadata": {},
   "outputs": [
    {
     "data": {
      "image/png": "[encoded data removed]",
      "text/plain": [
       "<Figure size 360x360 with 6 Axes>"
      ]
     },
     "metadata": {
      "needs_background": "light"
     },
     "output_type": "display_data"
    }
   ],
   "source": [
    "import numpy as np\n",
    "import matplotlib.pyplot as plt\n",
    "import pandas as pd\n",
    "\n",
    "#Make a pair plot from the seaborn package\n",
    "import seaborn as sea \n",
    "sea.pairplot(HDI_data_2014, kind = \"reg\")\n",
    "plt.show()"
   ]
  },
  {
   "cell_type": "code",
   "execution_count": 36,
   "metadata": {},
   "outputs": [
    {
     "data": {
      "image/png": "[encoded data removed]",
      "text/plain": [
       "<Figure size 360x360 with 6 Axes>"
      ]
     },
     "metadata": {
      "needs_background": "light"
     },
     "output_type": "display_data"
    },
    {
     "data": {
      "text/plain": [
       "Text(0.5, 0, 'HDI for year')"
      ]
     },
     "execution_count": 36,
     "metadata": {},
     "output_type": "execute_result"
    },
    {
     "data": {
      "image/png": "[encoded data removed]",
      "text/plain": [
       "<Figure size 432x288 with 1 Axes>"
      ]
     },
     "metadata": {
      "needs_background": "light"
     },
     "output_type": "display_data"
    }
   ],
   "source": [
    "# data is skewed, so log transformation\n",
    "#Transform both varaibles to log\n",
    "HDI_data_2014_log = pd.DataFrame()\n",
    "\n",
    "#@Pavlos: how many log transformations can I do?\n",
    "#We perform a log(x+1) tranformation since values of 0 would give inf\n",
    "HDI_data_2014_log[[\"HDI for year\"]] = np.log(HDI_data_2014[[\"HDI for year\"]]+1)\n",
    "HDI_data_2014_log[[\"suicide_rate_per_head\"]] = np.log(HDI_data_2014[[\"suicide_rate_per_head\"]]+1)\n",
    "\n",
    "#Build the seaborn plot again\n",
    "sea.pairplot(HDI_data_2014_log, kind = \"reg\")\n",
    "plt.show()\n",
    "\n",
    "n, bins, patches = plt.hist(HDI_data_2014_log[\"HDI for year\"])\n",
    "plt.ylabel('Frequency')\n",
    "plt.xlabel('HDI for year')"
   ]
  },
  {
   "cell_type": "code",
   "execution_count": 34,
   "metadata": {},
   "outputs": [
    {
     "data": {
      "image/png": "[encoded data removed]",
      "text/plain": [
       "<Figure size 540x540 with 12 Axes>"
      ]
     },
     "metadata": {
      "needs_background": "light"
     },
     "output_type": "display_data"
    }
   ],
   "source": [
    "# for both:\n",
    "# data is skewed, so log transformation\n",
    "#Transform both varaibles to log\n",
    "both_2014_log = pd.DataFrame()\n",
    "\n",
    "#@Pavlos: how many log transformations can I do?\n",
    "#We perform a log(x+1) tranformation since values of 0 would give inf\n",
    "both_2014_log[[\"HDI for year\"]] = np.log(both_data_2014[[\"HDI for year\"]]+1)\n",
    "both_2014_log[[\"suicide_rate_per_head\"]] = np.log(both_data_2014[[\"suicide_rate_per_head\"]]+1)\n",
    "both_2014_log[[\"gdp_per_capita ($)\"]] = np.log(both_data_2014[[\"gdp_per_capita ($)\"]]+1)\n",
    "\n",
    "#Build the seaborn plot again\n",
    "sea.pairplot(both_2014_log, kind = \"reg\")\n",
    "plt.show()"
   ]
  },
  {
   "cell_type": "markdown",
   "metadata": {},
   "source": [
    "## Outliers"
   ]
  },
  {
   "cell_type": "code",
   "execution_count": 19,
   "metadata": {},
   "outputs": [
    {
     "data": {
      "text/plain": [
       "<matplotlib.axes._subplots.AxesSubplot at 0x7f85f42c47d0>"
      ]
     },
     "execution_count": 19,
     "metadata": {},
     "output_type": "execute_result"
    },
    {
     "data": {
      "image/png": "[encoded data removed]",
      "text/plain": [
       "<Figure size 432x288 with 1 Axes>"
      ]
     },
     "metadata": {
      "needs_background": "light"
     },
     "output_type": "display_data"
    }
   ],
   "source": [
    "#@Pavlos: \n",
    "#get outliers\n",
    "#sea.boxplot(df_2014_log)\n",
    "#plt.show()\n",
    "sea.boxplot(x=GDP_data_2014_log[\"gdp_per_capita ($)\"])"
   ]
  },
  {
   "cell_type": "code",
   "execution_count": 20,
   "metadata": {},
   "outputs": [
    {
     "data": {
      "text/plain": [
       "<matplotlib.axes._subplots.AxesSubplot at 0x7f85f4a6e4d0>"
      ]
     },
     "execution_count": 20,
     "metadata": {},
     "output_type": "execute_result"
    },
    {
     "data": {
      "image/png": "[encoded data removed]",
      "text/plain": [
       "<Figure size 432x288 with 1 Axes>"
      ]
     },
     "metadata": {
      "needs_background": "light"
     },
     "output_type": "display_data"
    }
   ],
   "source": [
    "sea.boxplot(x=HDI_data_2014_log[\"HDI for year\"])"
   ]
  },
  {
   "cell_type": "code",
   "execution_count": 21,
   "metadata": {},
   "outputs": [
    {
     "data": {
      "text/plain": [
       "<matplotlib.axes._subplots.AxesSubplot at 0x7f85f4d17f90>"
      ]
     },
     "execution_count": 21,
     "metadata": {},
     "output_type": "execute_result"
    },
    {
     "data": {
      "image/png": "[encoded data removed]",
      "text/plain": [
       "<Figure size 432x288 with 1 Axes>"
      ]
     },
     "metadata": {
      "needs_background": "light"
     },
     "output_type": "display_data"
    }
   ],
   "source": [
    "sea.boxplot(x=GDP_data_2014_log[\"suicide_rate_per_head\"])"
   ]
  },
  {
   "cell_type": "code",
   "execution_count": 22,
   "metadata": {},
   "outputs": [
    {
     "data": {
      "text/plain": [
       "<matplotlib.axes._subplots.AxesSubplot at 0x7f85f4c9f510>"
      ]
     },
     "execution_count": 22,
     "metadata": {},
     "output_type": "execute_result"
    },
    {
     "data": {
      "image/png": "[encoded data removed]",
      "text/plain": [
       "<Figure size 432x288 with 1 Axes>"
      ]
     },
     "metadata": {
      "needs_background": "light"
     },
     "output_type": "display_data"
    }
   ],
   "source": [
    "# show outliers:\n",
    "outliers_2014 = GDP_data_2014_log.loc[GDP_data_2014_log['suicide_rate_per_head'] > 0.0003]\n",
    "outliers_2014.head()\n",
    "# @Pavlos: den würde ich dann rausnehmen\n",
    "df_2014_log_w0outliers =GDP_data_2014_log[GDP_data_2014_log['suicide_rate_per_head'] < 0.0003]\n",
    "df_2014_log_w0outliers.head()\n",
    "sea.boxplot(x=df_2014_log_w0outliers[\"suicide_rate_per_head\"])\n",
    "\n",
    "\n"
   ]
  },
  {
   "cell_type": "code",
   "execution_count": 23,
   "metadata": {},
   "outputs": [
    {
     "data": {
      "text/plain": [
       "<matplotlib.axes._subplots.AxesSubplot at 0x7f85f4387d90>"
      ]
     },
     "execution_count": 23,
     "metadata": {},
     "output_type": "execute_result"
    },
    {
     "data": {
      "image/png": "[encoded data removed]",
      "text/plain": [
       "<Figure size 432x288 with 1 Axes>"
      ]
     },
     "metadata": {
      "needs_background": "light"
     },
     "output_type": "display_data"
    }
   ],
   "source": [
    "#also for hdi:\n",
    "HDI_2014 =HDI_data_2014_log[HDI_data_2014_log['suicide_rate_per_head'] < 0.0003]\n",
    "sea.boxplot(x=HDI_2014[\"suicide_rate_per_head\"])"
   ]
  },
  {
   "cell_type": "code",
   "execution_count": 24,
   "metadata": {},
   "outputs": [
    {
     "data": {
      "text/plain": [
       "<matplotlib.axes._subplots.AxesSubplot at 0x7f85f43ce290>"
      ]
     },
     "execution_count": 24,
     "metadata": {},
     "output_type": "execute_result"
    },
    {
     "data": {
      "image/png": "[encoded data removed]",
      "text/plain": [
       "<Figure size 432x288 with 1 Axes>"
      ]
     },
     "metadata": {
      "needs_background": "light"
     },
     "output_type": "display_data"
    }
   ],
   "source": [
    "#also for both:\n",
    "both_2014 =both_2014_log[both_2014_log['suicide_rate_per_head'] < 0.0003]\n",
    "sea.boxplot(x=both_2014[\"suicide_rate_per_head\"])"
   ]
  },
  {
   "cell_type": "markdown",
   "metadata": {},
   "source": [
    "## Uncorrelation of Error Terms (Independence of Error Terms)"
   ]
  },
  {
   "cell_type": "code",
   "execution_count": 25,
   "metadata": {},
   "outputs": [
    {
     "data": {
      "image/png": "[encoded data removed]",
      "text/plain": [
       "<Figure size 360x360 with 6 Axes>"
      ]
     },
     "metadata": {
      "needs_background": "light"
     },
     "output_type": "display_data"
    }
   ],
   "source": [
    "#Build the seaborn plot again\n",
    "sea.pairplot(df_2014_log_w0outliers, kind = \"reg\")\n",
    "plt.show()\n",
    "#@Pavlos: I didn't use error terms? How do I get them :/ PredA didn't use them either I think\n",
    "\n"
   ]
  },
  {
   "cell_type": "code",
   "execution_count": 26,
   "metadata": {},
   "outputs": [
    {
     "data": {
      "image/png": "[encoded data removed]",
      "text/plain": [
       "<Figure size 360x360 with 6 Axes>"
      ]
     },
     "metadata": {
      "needs_background": "light"
     },
     "output_type": "display_data"
    }
   ],
   "source": [
    "#HDI:\n",
    "#Build the seaborn plot again\n",
    "sea.pairplot(HDI_2014, kind = \"reg\")\n",
    "plt.show()\n",
    "#@Pavlos: I didn't use error terms? How do I get them :/ PredA didn't use them either I think\n",
    "\n"
   ]
  },
  {
   "cell_type": "markdown",
   "metadata": {},
   "source": [
    "## Homoscedasticity"
   ]
  },
  {
   "cell_type": "code",
   "execution_count": 27,
   "metadata": {},
   "outputs": [],
   "source": [
    "#@Pavlos: see plot above, no funnel shape, so we good, right?"
   ]
  },
  {
   "cell_type": "markdown",
   "metadata": {},
   "source": [
    "# Simple Linear Regression"
   ]
  },
  {
   "cell_type": "code",
   "execution_count": 28,
   "metadata": {},
   "outputs": [],
   "source": [
    "import numpy as np\n",
    "import matplotlib.pyplot as plt\n",
    "import pandas as pd\n",
    "import statsmodels.api as sm\n",
    "from sklearn.model_selection import train_test_split\n",
    "\n",
    "np.random.seed(40)\n",
    "\n",
    "#Make a train and test split (70/30)\n",
    "#train, test = train_test_split(social_media, test_size=0.30)\n",
    "train_log, test_log = train_test_split(df_2014_log_w0outliers, test_size=0.30)\n",
    "\n",
    "#Add the intercept\n",
    "#train = sm.add_constant(train)\n",
    "#test = sm.add_constant(test)\n",
    "\n",
    "train_log = sm.add_constant(train_log)\n",
    "test_log = sm.add_constant(test_log)"
   ]
  },
  {
   "cell_type": "code",
   "execution_count": 29,
   "metadata": {},
   "outputs": [],
   "source": [
    "def fit_ols(data, xvars, yvars):\n",
    "    \n",
    "    ### BEGIN SOLUTION\n",
    "    linreg = sm.OLS(data[yvars],data[xvars]).fit()\n",
    "    ### END SOLUTION\n",
    "    \n",
    "    return linreg"
   ]
  },
  {
   "cell_type": "code",
   "execution_count": 30,
   "metadata": {},
   "outputs": [],
   "source": [
    "linreg_log = fit_ols(data=train_log, xvars=[\"const\",\"gdp_per_capita ($)\"], yvars= \"suicide_rate_per_head\")"
   ]
  },
  {
   "cell_type": "code",
   "execution_count": 31,
   "metadata": {
    "scrolled": true
   },
   "outputs": [
    {
     "name": "stdout",
     "output_type": "stream",
     "text": [
      "                              OLS Regression Results                             \n",
      "=================================================================================\n",
      "Dep. Variable:     suicide_rate_per_head   R-squared:                       0.019\n",
      "Model:                               OLS   Adj. R-squared:                 -0.001\n",
      "Method:                    Least Squares   F-statistic:                    0.9694\n",
      "Date:                   Tue, 03 Nov 2020   Prob (F-statistic):              0.330\n",
      "Time:                           22:18:28   Log-Likelihood:                 429.31\n",
      "No. Observations:                     52   AIC:                            -854.6\n",
      "Df Residuals:                         50   BIC:                            -850.7\n",
      "Df Model:                              1                                         \n",
      "Covariance Type:               nonrobust                                         \n",
      "======================================================================================\n",
      "                         coef    std err          t      P>|t|      [0.025      0.975]\n",
      "--------------------------------------------------------------------------------------\n",
      "const               7.872e-06   9.62e-05      0.082      0.935      -0.000       0.000\n",
      "gdp_per_capita ($)  9.581e-06   9.73e-06      0.985      0.330   -9.96e-06    2.91e-05\n",
      "==============================================================================\n",
      "Omnibus:                        3.747   Durbin-Watson:                   1.865\n",
      "Prob(Omnibus):                  0.154   Jarque-Bera (JB):                3.469\n",
      "Skew:                           0.627   Prob(JB):                        0.176\n",
      "Kurtosis:                       2.825   Cond. No.                         108.\n",
      "==============================================================================\n",
      "\n",
      "Warnings:\n",
      "[1] Standard Errors assume that the covariance matrix of the errors is correctly specified.\n"
     ]
    }
   ],
   "source": [
    "print(linreg_log.summary())"
   ]
  },
  {
   "cell_type": "code",
   "execution_count": 32,
   "metadata": {},
   "outputs": [
    {
     "ename": "SyntaxError",
     "evalue": "invalid syntax (<ipython-input-32-9ed3e7559db6>, line 3)",
     "output_type": "error",
     "traceback": [
      "\u001b[0;36m  File \u001b[0;32m\"<ipython-input-32-9ed3e7559db6>\"\u001b[0;36m, line \u001b[0;32m3\u001b[0m\n\u001b[0;31m    If t-statistic very lagre => a hypo likely to be true\u001b[0m\n\u001b[0m       ^\u001b[0m\n\u001b[0;31mSyntaxError\u001b[0m\u001b[0;31m:\u001b[0m invalid syntax\n"
     ]
    }
   ],
   "source": [
    "# Interpretation:\n",
    "#only look at the suicide_rate_per_head\n",
    "If t-statistic very lagre => a hypo likely to be true \n",
    "We can't reject null hypo if p-value > 0.05 , we can't say for sure that there is a relationship\n",
    "\n",
    "#@Pavlo: for const -> can't reject null hypo\n",
    "#for suicide?\n",
    "\n",
    "#@Pavlo: Also say sth. to R2 and Adjusted R2, right?"
   ]
  },
  {
   "cell_type": "markdown",
   "metadata": {},
   "source": [
    "### HDI"
   ]
  },
  {
   "cell_type": "code",
   "execution_count": 33,
   "metadata": {},
   "outputs": [],
   "source": [
    "import numpy as np\n",
    "import matplotlib.pyplot as plt\n",
    "import pandas as pd\n",
    "import statsmodels.api as sm\n",
    "from sklearn.model_selection import train_test_split\n",
    "\n",
    "np.random.seed(40)\n",
    "\n",
    "#Make a train and test split (70/30)\n",
    "#train, test = train_test_split(social_media, test_size=0.30)\n",
    "HDI_train_log, HDI_test_log = train_test_split(HDI_2014, test_size=0.30)\n",
    "\n",
    "#Add the intercept\n",
    "#train = sm.add_constant(train)\n",
    "#test = sm.add_constant(test)\n",
    "\n",
    "HDI_train_log = sm.add_constant(HDI_train_log)\n",
    "HDI_test_log = sm.add_constant(HDI_test_log)"
   ]
  },
  {
   "cell_type": "code",
   "execution_count": 34,
   "metadata": {},
   "outputs": [],
   "source": [
    "def fit_ols(data, xvars, yvars):\n",
    "    \n",
    "    ### BEGIN SOLUTION\n",
    "    linreg = sm.OLS(data[yvars],data[xvars]).fit()\n",
    "    ### END SOLUTION\n",
    "    \n",
    "    return linreg"
   ]
  },
  {
   "cell_type": "code",
   "execution_count": 35,
   "metadata": {},
   "outputs": [],
   "source": [
    "HDI_linreg_log = fit_ols(data=HDI_train_log, xvars=[\"const\",\"HDI for year\"], yvars= \"suicide_rate_per_head\")"
   ]
  },
  {
   "cell_type": "code",
   "execution_count": 36,
   "metadata": {},
   "outputs": [
    {
     "name": "stdout",
     "output_type": "stream",
     "text": [
      "                              OLS Regression Results                             \n",
      "=================================================================================\n",
      "Dep. Variable:     suicide_rate_per_head   R-squared:                       0.183\n",
      "Model:                               OLS   Adj. R-squared:                  0.166\n",
      "Method:                    Least Squares   F-statistic:                     10.74\n",
      "Date:                   Tue, 03 Nov 2020   Prob (F-statistic):            0.00195\n",
      "Time:                           22:18:36   Log-Likelihood:                 422.44\n",
      "No. Observations:                     50   AIC:                            -840.9\n",
      "Df Residuals:                         48   BIC:                            -837.1\n",
      "Df Model:                              1                                         \n",
      "Covariance Type:               nonrobust                                         \n",
      "================================================================================\n",
      "                   coef    std err          t      P>|t|      [0.025      0.975]\n",
      "--------------------------------------------------------------------------------\n",
      "const           -0.0002   9.89e-05     -2.234      0.030      -0.000   -2.21e-05\n",
      "HDI for year     0.0005      0.000      3.277      0.002       0.000       0.001\n",
      "==============================================================================\n",
      "Omnibus:                        2.655   Durbin-Watson:                   1.988\n",
      "Prob(Omnibus):                  0.265   Jarque-Bera (JB):                2.530\n",
      "Skew:                           0.498   Prob(JB):                        0.282\n",
      "Kurtosis:                       2.527   Cond. No.                         30.1\n",
      "==============================================================================\n",
      "\n",
      "Warnings:\n",
      "[1] Standard Errors assume that the covariance matrix of the errors is correctly specified.\n"
     ]
    }
   ],
   "source": [
    "print(HDI_linreg_log.summary())"
   ]
  },
  {
   "cell_type": "code",
   "execution_count": null,
   "metadata": {},
   "outputs": [],
   "source": [
    "# Interpretation:\n",
    "If t-statistic very lagre => a hypo likely to be true \n",
    "We reject null hypo if p-value < 0.05 -> we reject null hypo, statistically significant \n",
    "\n",
    "#@Pavlo: for both true -> reject null hypo\n",
    "\n",
    "#@Pavlo: Also say sth. to R2 and Adjusted R2, right?\n",
    "# for comparising with MLR \n",
    "# the higher the better\n",
    "# you can talk about both of them, but not necessary"
   ]
  },
  {
   "cell_type": "markdown",
   "metadata": {},
   "source": [
    "# Multiple Linear Regression"
   ]
  },
  {
   "cell_type": "markdown",
   "metadata": {},
   "source": [
    "## Test Assumptions"
   ]
  },
  {
   "cell_type": "code",
   "execution_count": 37,
   "metadata": {},
   "outputs": [],
   "source": [
    "# linear relationship between predictors and response \n",
    "#@Pavlos: predictors = GDP+HDI, response = s_rate, right? -> right\n",
    "# if so, did that for SLR already"
   ]
  },
  {
   "cell_type": "code",
   "execution_count": 38,
   "metadata": {},
   "outputs": [
    {
     "data": {
      "text/html": [
       "<div>\n",
       "<style scoped>\n",
       "    .dataframe tbody tr th:only-of-type {\n",
       "        vertical-align: middle;\n",
       "    }\n",
       "\n",
       "    .dataframe tbody tr th {\n",
       "        vertical-align: top;\n",
       "    }\n",
       "\n",
       "    .dataframe thead th {\n",
       "        text-align: right;\n",
       "    }\n",
       "</style>\n",
       "<table border=\"1\" class=\"dataframe\">\n",
       "  <thead>\n",
       "    <tr style=\"text-align: right;\">\n",
       "      <th></th>\n",
       "      <th>HDI for year</th>\n",
       "      <th>suicide_rate_per_head</th>\n",
       "      <th>gdp_per_capita ($)</th>\n",
       "    </tr>\n",
       "  </thead>\n",
       "  <tbody>\n",
       "    <tr>\n",
       "      <th>936</th>\n",
       "      <td>0.607589</td>\n",
       "      <td>0.000082</td>\n",
       "      <td>9.503085</td>\n",
       "    </tr>\n",
       "    <tr>\n",
       "      <th>1224</th>\n",
       "      <td>0.549854</td>\n",
       "      <td>0.000021</td>\n",
       "      <td>8.329175</td>\n",
       "    </tr>\n",
       "    <tr>\n",
       "      <th>1762</th>\n",
       "      <td>0.660107</td>\n",
       "      <td>0.000132</td>\n",
       "      <td>11.109608</td>\n",
       "    </tr>\n",
       "    <tr>\n",
       "      <th>2134</th>\n",
       "      <td>0.633928</td>\n",
       "      <td>0.000161</td>\n",
       "      <td>10.901893</td>\n",
       "    </tr>\n",
       "    <tr>\n",
       "      <th>2876</th>\n",
       "      <td>0.601032</td>\n",
       "      <td>0.000007</td>\n",
       "      <td>10.222087</td>\n",
       "    </tr>\n",
       "  </tbody>\n",
       "</table>\n",
       "</div>"
      ],
      "text/plain": [
       "      HDI for year  suicide_rate_per_head  gdp_per_capita ($)\n",
       "936       0.607589               0.000082            9.503085\n",
       "1224      0.549854               0.000021            8.329175\n",
       "1762      0.660107               0.000132           11.109608\n",
       "2134      0.633928               0.000161           10.901893\n",
       "2876      0.601032               0.000007           10.222087"
      ]
     },
     "execution_count": 38,
     "metadata": {},
     "output_type": "execute_result"
    }
   ],
   "source": [
    "both_2014.head()"
   ]
  },
  {
   "cell_type": "code",
   "execution_count": 39,
   "metadata": {},
   "outputs": [
    {
     "data": {
      "text/html": [
       "<div>\n",
       "<style scoped>\n",
       "    .dataframe tbody tr th:only-of-type {\n",
       "        vertical-align: middle;\n",
       "    }\n",
       "\n",
       "    .dataframe tbody tr th {\n",
       "        vertical-align: top;\n",
       "    }\n",
       "\n",
       "    .dataframe thead th {\n",
       "        text-align: right;\n",
       "    }\n",
       "</style>\n",
       "<table border=\"1\" class=\"dataframe\">\n",
       "  <thead>\n",
       "    <tr style=\"text-align: right;\">\n",
       "      <th></th>\n",
       "      <th>HDI for year</th>\n",
       "      <th>suicide_rate_per_head</th>\n",
       "      <th>gdp_per_capita ($)</th>\n",
       "    </tr>\n",
       "  </thead>\n",
       "  <tbody>\n",
       "    <tr>\n",
       "      <th>HDI for year</th>\n",
       "      <td>1.000000</td>\n",
       "      <td>0.374050</td>\n",
       "      <td>0.914108</td>\n",
       "    </tr>\n",
       "    <tr>\n",
       "      <th>suicide_rate_per_head</th>\n",
       "      <td>0.374050</td>\n",
       "      <td>1.000000</td>\n",
       "      <td>0.204246</td>\n",
       "    </tr>\n",
       "    <tr>\n",
       "      <th>gdp_per_capita ($)</th>\n",
       "      <td>0.914108</td>\n",
       "      <td>0.204246</td>\n",
       "      <td>1.000000</td>\n",
       "    </tr>\n",
       "  </tbody>\n",
       "</table>\n",
       "</div>"
      ],
      "text/plain": [
       "                       HDI for year  suicide_rate_per_head  gdp_per_capita ($)\n",
       "HDI for year               1.000000               0.374050            0.914108\n",
       "suicide_rate_per_head      0.374050               1.000000            0.204246\n",
       "gdp_per_capita ($)         0.914108               0.204246            1.000000"
      ]
     },
     "execution_count": 39,
     "metadata": {},
     "output_type": "execute_result"
    }
   ],
   "source": [
    "# no multicollinearity\n",
    "#In pandas, correlation can be calculated fairly easy\n",
    "#By default the pearson correlation is calculated\n",
    "both_2014.corr()\n",
    "\n",
    "#GDP + HDI high collinearity! (which makes sense)"
   ]
  },
  {
   "cell_type": "code",
   "execution_count": 40,
   "metadata": {},
   "outputs": [],
   "source": [
    "# multivariate normality\n",
    "#@Pavlos: Are QQ-Plots + Scatterplots from SLR enough?"
   ]
  },
  {
   "cell_type": "code",
   "execution_count": 41,
   "metadata": {},
   "outputs": [],
   "source": [
    "# no autocorrelation\n",
    "# done for SLR individually"
   ]
  },
  {
   "cell_type": "code",
   "execution_count": 42,
   "metadata": {},
   "outputs": [],
   "source": [
    "# homoscedasticity\n",
    "# done for SLR individually"
   ]
  },
  {
   "cell_type": "markdown",
   "metadata": {},
   "source": [
    "## MLR Test"
   ]
  },
  {
   "cell_type": "code",
   "execution_count": 43,
   "metadata": {},
   "outputs": [],
   "source": [
    "#Function that fits an OLS for advertising and theaters.\n",
    "#This is done in exactly the same fashion as SLR\n",
    "def make_mlr(data, xvars, yvars):\n",
    "    \n",
    "    ### BEGIN SOLUTION\n",
    "    lm = sm.OLS(data[yvars], data[xvars]).fit()\n",
    "    ### END SOLUTION\n",
    "    \n",
    "    return lm"
   ]
  },
  {
   "cell_type": "code",
   "execution_count": 44,
   "metadata": {},
   "outputs": [
    {
     "name": "stdout",
     "output_type": "stream",
     "text": [
      "                              OLS Regression Results                             \n",
      "=================================================================================\n",
      "Dep. Variable:     suicide_rate_per_head   R-squared:                       0.255\n",
      "Model:                               OLS   Adj. R-squared:                  0.234\n",
      "Method:                    Least Squares   F-statistic:                     11.82\n",
      "Date:                   Tue, 03 Nov 2020   Prob (F-statistic):           3.85e-05\n",
      "Time:                           22:18:52   Log-Likelihood:                 609.01\n",
      "No. Observations:                     72   AIC:                            -1212.\n",
      "Df Residuals:                         69   BIC:                            -1205.\n",
      "Df Model:                              2                                         \n",
      "Covariance Type:               nonrobust                                         \n",
      "======================================================================================\n",
      "                         coef    std err          t      P>|t|      [0.025      0.975]\n",
      "--------------------------------------------------------------------------------------\n",
      "const                 -0.0003   8.63e-05     -3.373      0.001      -0.000      -0.000\n",
      "gdp_per_capita ($) -4.862e-05   1.49e-05     -3.268      0.002   -7.83e-05   -1.89e-05\n",
      "HDI for year           0.0015      0.000      4.447      0.000       0.001       0.002\n",
      "==============================================================================\n",
      "Omnibus:                       17.341   Durbin-Watson:                   1.989\n",
      "Prob(Omnibus):                  0.000   Jarque-Bera (JB):               25.203\n",
      "Skew:                           0.953   Prob(JB):                     3.37e-06\n",
      "Kurtosis:                       5.183   Cond. No.                         539.\n",
      "==============================================================================\n",
      "\n",
      "Warnings:\n",
      "[1] Standard Errors assume that the covariance matrix of the errors is correctly specified.\n"
     ]
    }
   ],
   "source": [
    "#Add a constant\n",
    "both_2014_const = sm.add_constant(both_2014)\n",
    "#do MLR: \n",
    "lm_full = make_mlr(both_2014_const,[\"const\",\"gdp_per_capita ($)\",\"HDI for year\"], \"suicide_rate_per_head\")\n",
    "print(lm_full.summary())"
   ]
  },
  {
   "cell_type": "code",
   "execution_count": null,
   "metadata": {},
   "outputs": [],
   "source": [
    "# Interpretation:\n",
    "F-statistic > 1 and p-value < 0.05 -> reject H0\n",
    "\n",
    "-> model correctly specified, because adjusted R-squre optimal?\n",
    "\n",
    "\n",
    "#Coefficients + p-value:\n",
    "#@Pavlos: both significant, because P value smaller than 0.05?\n",
    "gdp: increase in gdp 1$, decrease in suicides of -0.000000\n",
    "    \n",
    "hdi: increase in hdi 1-point, increase in suicides of 0.0015\n",
    "    \n",
    "# both r2 higher, -> better choice   \n",
    "# both cases: p values are lower than 0.05\n",
    "# reject null hypo\n",
    "\n",
    "#@TODO: try it again with suicide_rate* 100 000"
   ]
  },
  {
   "cell_type": "code",
   "execution_count": null,
   "metadata": {},
   "outputs": [],
   "source": []
  },
  {
   "cell_type": "code",
   "execution_count": null,
   "metadata": {},
   "outputs": [],
   "source": []
  },
  {
   "cell_type": "markdown",
   "metadata": {},
   "source": [
    "## Non-Collinearity (always after Regressions)"
   ]
  },
  {
   "cell_type": "code",
   "execution_count": 45,
   "metadata": {
    "scrolled": true
   },
   "outputs": [
    {
     "data": {
      "text/html": [
       "<div>\n",
       "<style scoped>\n",
       "    .dataframe tbody tr th:only-of-type {\n",
       "        vertical-align: middle;\n",
       "    }\n",
       "\n",
       "    .dataframe tbody tr th {\n",
       "        vertical-align: top;\n",
       "    }\n",
       "\n",
       "    .dataframe thead th {\n",
       "        text-align: right;\n",
       "    }\n",
       "</style>\n",
       "<table border=\"1\" class=\"dataframe\">\n",
       "  <thead>\n",
       "    <tr style=\"text-align: right;\">\n",
       "      <th></th>\n",
       "      <th>VIF Factor</th>\n",
       "      <th>features</th>\n",
       "    </tr>\n",
       "  </thead>\n",
       "  <tbody>\n",
       "    <tr>\n",
       "      <th>0</th>\n",
       "      <td>4.0</td>\n",
       "      <td>gdp_per_capita ($)</td>\n",
       "    </tr>\n",
       "    <tr>\n",
       "      <th>1</th>\n",
       "      <td>4.0</td>\n",
       "      <td>suicide_rate_per_head</td>\n",
       "    </tr>\n",
       "  </tbody>\n",
       "</table>\n",
       "</div>"
      ],
      "text/plain": [
       "   VIF Factor               features\n",
       "0         4.0     gdp_per_capita ($)\n",
       "1         4.0  suicide_rate_per_head"
      ]
     },
     "execution_count": 45,
     "metadata": {},
     "output_type": "execute_result"
    }
   ],
   "source": [
    "import pandas as pd\n",
    "import numpy as np\n",
    "from patsy import dmatrices\n",
    "import statsmodels.api as sm\n",
    "from statsmodels.stats.outliers_influence import variance_inflation_factor\n",
    "\n",
    "# For each X, calculate VIF and save in dataframe\n",
    "vif = pd.DataFrame()\n",
    "vif[\"VIF Factor\"] = [variance_inflation_factor(df_2014_log_w0outliers.values, i) for i in range(df_2014_log_w0outliers.shape[1])]\n",
    "vif[\"features\"] = df_2014_log_w0outliers.columns\n",
    "\n",
    "#show:\n",
    "vif.round(1)\n",
    "\n",
    "#@Pavlos: so there is collinearity, because VIF is bigger than 1?"
   ]
  },
  {
   "cell_type": "markdown",
   "metadata": {},
   "source": [
    "### HDI"
   ]
  },
  {
   "cell_type": "code",
   "execution_count": 46,
   "metadata": {},
   "outputs": [
    {
     "data": {
      "text/html": [
       "<div>\n",
       "<style scoped>\n",
       "    .dataframe tbody tr th:only-of-type {\n",
       "        vertical-align: middle;\n",
       "    }\n",
       "\n",
       "    .dataframe tbody tr th {\n",
       "        vertical-align: top;\n",
       "    }\n",
       "\n",
       "    .dataframe thead th {\n",
       "        text-align: right;\n",
       "    }\n",
       "</style>\n",
       "<table border=\"1\" class=\"dataframe\">\n",
       "  <thead>\n",
       "    <tr style=\"text-align: right;\">\n",
       "      <th></th>\n",
       "      <th>VIF Factor</th>\n",
       "      <th>features</th>\n",
       "    </tr>\n",
       "  </thead>\n",
       "  <tbody>\n",
       "    <tr>\n",
       "      <th>0</th>\n",
       "      <td>4.4</td>\n",
       "      <td>HDI for year</td>\n",
       "    </tr>\n",
       "    <tr>\n",
       "      <th>1</th>\n",
       "      <td>4.4</td>\n",
       "      <td>suicide_rate_per_head</td>\n",
       "    </tr>\n",
       "  </tbody>\n",
       "</table>\n",
       "</div>"
      ],
      "text/plain": [
       "   VIF Factor               features\n",
       "0         4.4           HDI for year\n",
       "1         4.4  suicide_rate_per_head"
      ]
     },
     "execution_count": 46,
     "metadata": {},
     "output_type": "execute_result"
    }
   ],
   "source": [
    "import pandas as pd\n",
    "import numpy as np\n",
    "from patsy import dmatrices\n",
    "import statsmodels.api as sm\n",
    "from statsmodels.stats.outliers_influence import variance_inflation_factor\n",
    "\n",
    "# For each X, calculate VIF and save in dataframe\n",
    "vif = pd.DataFrame()\n",
    "vif[\"VIF Factor\"] = [variance_inflation_factor(HDI_2014.values, i) for i in range(HDI_2014.shape[1])]\n",
    "vif[\"features\"] = HDI_2014.columns\n",
    "\n",
    "#show:\n",
    "vif.round(1)\n",
    "\n",
    "#@Pavlos: so there is collinearity, because VIF is bigger than 1?"
   ]
  },
  {
   "cell_type": "markdown",
   "metadata": {},
   "source": [
    "## Check for normal distribution of error terms"
   ]
  },
  {
   "cell_type": "code",
   "execution_count": 47,
   "metadata": {},
   "outputs": [
    {
     "data": {
      "image/png": "[encoded data removed]",
      "text/plain": [
       "<Figure size 432x288 with 1 Axes>"
      ]
     },
     "metadata": {
      "needs_background": "light"
     },
     "output_type": "display_data"
    },
    {
     "data": {
      "text/plain": [
       "KstestResult(statistic=0.49995935545068193, pvalue=1.5222483528635914e-12)"
      ]
     },
     "execution_count": 47,
     "metadata": {},
     "output_type": "execute_result"
    }
   ],
   "source": [
    "#Make a QQ-plot of the residuals\n",
    "from scipy import stats\n",
    "\n",
    "stats.probplot(linreg_log.resid, plot= plt)\n",
    "plt.title(\"Model1 Residuals Probability Plot\")\n",
    "plt.show()\n",
    "\n",
    "#Do a K-S test\n",
    "stats.kstest(linreg_log.resid, 'norm')\n",
    "\n",
    "#@Pavlos: looks ok, right?"
   ]
  },
  {
   "cell_type": "markdown",
   "metadata": {},
   "source": [
    "### HDI"
   ]
  },
  {
   "cell_type": "code",
   "execution_count": 48,
   "metadata": {
    "scrolled": true
   },
   "outputs": [
    {
     "data": {
      "image/png": "[encoded data removed]",
      "text/plain": [
       "<Figure size 432x288 with 1 Axes>"
      ]
     },
     "metadata": {
      "needs_background": "light"
     },
     "output_type": "display_data"
    },
    {
     "data": {
      "text/plain": [
       "KstestResult(statistic=0.4999635862092466, pvalue=4.411165661796733e-12)"
      ]
     },
     "execution_count": 48,
     "metadata": {},
     "output_type": "execute_result"
    }
   ],
   "source": [
    "#Make a QQ-plot of the residuals\n",
    "from scipy import stats\n",
    "\n",
    "stats.probplot(HDI_linreg_log.resid, plot= plt)\n",
    "plt.title(\"Model1 Residuals Probability Plot\")\n",
    "plt.show()\n",
    "\n",
    "#Do a K-S test\n",
    "stats.kstest(HDI_linreg_log.resid, 'norm')\n",
    "\n",
    "#@Pavlos: looks ok, right?"
   ]
  },
  {
   "cell_type": "code",
   "execution_count": null,
   "metadata": {},
   "outputs": [],
   "source": []
  }
 ],
 "metadata": {
  "kernelspec": {
   "display_name": "Python 3",
   "language": "python",
   "name": "python3"
  },
  "language_info": {
   "codemirror_mode": {
    "name": "ipython",
    "version": 3
   },
   "file_extension": ".py",
   "mimetype": "text/x-python",
   "name": "python",
   "nbconvert_exporter": "python",
   "pygments_lexer": "ipython3",
   "version": "3.7.6"
  }
 },
 "nbformat": 4,
 "nbformat_minor": 4
}
