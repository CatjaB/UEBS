{
 "cells": [
  {
   "cell_type": "markdown",
   "metadata": {
    "colab_type": "text",
    "id": "To_vEWFURtMX"
   },
   "source": [
    "# Collecting data from GooglePlay\n",
    "\n",
    "This notebook is used to collect the dataset 'reviews.csv' using reviews from the companies Asos and Zalando.ß\n",
    "\n",
    "The function used for scraping app info and reviews is [google-play-scraper](https://github.com/JoMingyu/google-play-scraper)."
   ]
  },
  {
   "cell_type": "markdown",
   "metadata": {
    "colab_type": "text",
    "id": "VI1Dobd2a3ZS"
   },
   "source": [
    "## Setup\n",
    "\n",
    "Let's install the required packages and setup the imports:"
   ]
  },
  {
   "cell_type": "code",
   "execution_count": null,
   "metadata": {},
   "outputs": [],
   "source": [
    "# First time running this code, you need to install package 'google_play_scraper' \n",
    "!pip install --upgrade google_play_scraper"
   ]
  },
  {
   "cell_type": "code",
   "execution_count": 2,
   "metadata": {
    "colab": {},
    "colab_type": "code",
    "id": "KO_DkQb1AeSY"
   },
   "outputs": [],
   "source": [
    "import json\n",
    "import pandas as pd\n",
    "from tqdm import tqdm\n",
    "\n",
    "import seaborn as sns\n",
    "import matplotlib.pyplot as plt\n",
    "\n",
    "from pygments import highlight\n",
    "from pygments.lexers import JsonLexer\n",
    "from pygments.formatters import TerminalFormatter\n",
    "\n",
    "from google_play_scraper import Sort, reviews, app\n"
   ]
  },
  {
   "cell_type": "markdown",
   "metadata": {
    "colab_type": "text",
    "id": "ILxYFPjkSILt"
   },
   "source": [
    "Now let's create a list of Apps we want to collect.\n",
    "\n",
    "We will need 'the Google Play ID', which is the unique identifier of an Android application. \n",
    "It can be found by searching for the app and finding the Play store web page for the app.\n",
    "\n",
    "In the example below, the Google Play ID is ``com.amazon.mShop.android.shopping``, which you can find directly from its url address:\n",
    "\n",
    "https://play.google.com/store/apps/details?id=com.amazon.mShop.android.shopping\n",
    "\n",
    "You are free to define your own list of Apps."
   ]
  },
  {
   "cell_type": "code",
   "execution_count": 15,
   "metadata": {
    "colab": {},
    "colab_type": "code",
    "id": "AyooW6bBAIl6"
   },
   "outputs": [],
   "source": [
    "# List of Apps and their packages to be collected. Here I choose some Apps under the category 'productivity'\n",
    "app_packages = [\n",
    "    'com.asos.app',\n",
    "    'de.zalando.mobile'\n",
    "]"
   ]
  },
  {
   "cell_type": "markdown",
   "metadata": {
    "colab_type": "text",
    "id": "EAxBAfyiZ-QC"
   },
   "source": [
    "## Scraping App Information\n",
    "\n",
    "Let's scrape the info for each app:"
   ]
  },
  {
   "cell_type": "code",
   "execution_count": 16,
   "metadata": {
    "colab": {
     "base_uri": "https://localhost:8080/",
     "height": 34
    },
    "colab_type": "code",
    "id": "zusDZbd4AoOG",
    "outputId": "89ce629d-1f4b-40b2-d0a5-c3e5378e3034"
   },
   "outputs": [
    {
     "name": "stderr",
     "output_type": "stream",
     "text": [
      "100%|██████████| 2/2 [00:00<00:00,  2.33it/s]\n"
     ]
    }
   ],
   "source": [
    "app_infos = []\n",
    "\n",
    "for ap in tqdm(app_packages):\n",
    "    info = app(ap, lang='en', country='uk') # from the UK markert\n",
    "    del info['comments']\n",
    "    app_infos.append(info)"
   ]
  },
  {
   "cell_type": "markdown",
   "metadata": {
    "colab_type": "text",
    "id": "HcqDfOxyNWrA"
   },
   "source": [
    "Let's look at the corresponding JSON objects:"
   ]
  },
  {
   "cell_type": "code",
   "execution_count": 17,
   "metadata": {
    "colab": {},
    "colab_type": "code",
    "id": "4n-vkhrZJPp_"
   },
   "outputs": [],
   "source": [
    "def print_json(json_object):\n",
    "    json_str = json.dumps(\n",
    "        json_object, \n",
    "        indent=2, \n",
    "        sort_keys=True, \n",
    "        default=str\n",
    "    )\n",
    "    print(highlight(json_str, JsonLexer(), TerminalFormatter()))"
   ]
  },
  {
   "cell_type": "markdown",
   "metadata": {
    "colab_type": "text",
    "id": "385fEVLONdac"
   },
   "source": [
    "Here is a sample app information from the list:"
   ]
  },
  {
   "cell_type": "code",
   "execution_count": 18,
   "metadata": {
    "colab": {
     "base_uri": "https://localhost:8080/",
     "height": 1000
    },
    "colab_type": "code",
    "id": "TI1s5NBAEl-X",
    "outputId": "078df2bb-d743-415c-b666-fe3e0bbbdd76"
   },
   "outputs": [
    {
     "name": "stdout",
     "output_type": "stream",
     "text": [
      "{\n",
      "  \u001b[94m\"adSupported\"\u001b[39;49;00m: \u001b[34mnull\u001b[39;49;00m,\n",
      "  \u001b[94m\"androidVersion\"\u001b[39;49;00m: \u001b[33m\"5.0\"\u001b[39;49;00m,\n",
      "  \u001b[94m\"androidVersionText\"\u001b[39;49;00m: \u001b[33m\"5.0 and up\"\u001b[39;49;00m,\n",
      "  \u001b[94m\"appId\"\u001b[39;49;00m: \u001b[33m\"com.asos.app\"\u001b[39;49;00m,\n",
      "  \u001b[94m\"containsAds\"\u001b[39;49;00m: \u001b[34mfalse\u001b[39;49;00m,\n",
      "  \u001b[94m\"contentRating\"\u001b[39;49;00m: \u001b[33m\"PEGI 3\"\u001b[39;49;00m,\n",
      "  \u001b[94m\"contentRatingDescription\"\u001b[39;49;00m: \u001b[34mnull\u001b[39;49;00m,\n",
      "  \u001b[94m\"currency\"\u001b[39;49;00m: \u001b[33m\"USD\"\u001b[39;49;00m,\n",
      "  \u001b[94m\"description\"\u001b[39;49;00m: \u001b[33m\"Here\\u2019s the situation: fresh pieces dropping daily, exclusive ranges you can't get anywhere else and new brands being added all the time \\u2013 plus free delivery and returns. Wherever and whoever you are, exploring your style never felt so good.\\r\\n\\r\\nWith the ASOS app for Android, you can: \\r\\n\\r\\n- FIND & SAVE WHAT YOU WANT \\r\\nYou can still shop every piece you'll find on ASOS. Search by type, size, brand, price and color, or browse and buy our trend and occasion edits. Plus, your Saved Items and Shopping Bag sync between your devices, too \\u2013 genius.\\r\\n\\r\\n- ENJOY SUPER-EASY CHECKOUT \\r\\nAdd a new credit card with our camera card scanner (#techy) for our quickest checkout ever. \\r\\n\\r\\n- GET HANDY SALE ALERTS \\r\\nOur push notifications can alert you as soon as sales start and remind you when they're ending, so you\\u2019ll never miss a bargain. Sweet!\\r\\n\\r\\n- SHARE YOUR PICKS \\r\\nIn two minds? Seen something your bestie would like? Involve your friends via WhatsApp, Twitter, Facebook, Pinterest, Google+ and email.\\r\\n\\r\\n- SEE THE CLOTHES ON THE CATWALK\\r\\nCheck out the fit and cut \\u2013 our signature catwalk videos for clothes, shoes and accessories are also in the app. \\r\\nOrder on the app for deliveries to 242 countries worldwide including Denmark, Netherlands, Singapore and Sweden. We\\u2019re always improving and genuinely love hearing your feedback, so email us at androiddev@asos.com or follow us on Twitter @ASOS_Heretohelp\\r\\n\\r\\nBeta it! Want to help us test out our newest, coolest app features? Become a beta tester: https://goo.gl/aHs7zy\"\u001b[39;49;00m,\n",
      "  \u001b[94m\"descriptionHTML\"\u001b[39;49;00m: \u001b[33m\"Here\\u2019s the situation: fresh pieces dropping daily, exclusive ranges you can&#39;t get anywhere else and new brands being added all the time \\u2013 plus free delivery and returns. Wherever and whoever you are, exploring your style never felt so good.<br><br>With the ASOS app for Android, you can: <br><br>- FIND &amp; SAVE WHAT YOU WANT <br>You can still shop every piece you&#39;ll find on ASOS. Search by type, size, brand, price and color, or browse and buy our trend and occasion edits. Plus, your Saved Items and Shopping Bag sync between your devices, too \\u2013 genius.<br><br>- ENJOY SUPER-EASY CHECKOUT <br>Add a new credit card with our camera card scanner (#techy) for our quickest checkout ever. <br><br>- GET HANDY SALE ALERTS <br>Our push notifications can alert you as soon as sales start and remind you when they&#39;re ending, so you\\u2019ll never miss a bargain. Sweet!<br><br>- SHARE YOUR PICKS <br>In two minds? Seen something your bestie would like? Involve your friends via WhatsApp, Twitter, Facebook, Pinterest, Google+ and email.<br><br>- SEE THE CLOTHES ON THE CATWALK<br>Check out the fit and cut \\u2013 our signature catwalk videos for clothes, shoes and accessories are also in the app. <br>Order on the app for deliveries to 242 countries worldwide including Denmark, Netherlands, Singapore and Sweden. We\\u2019re always improving and genuinely love hearing your feedback, so email us at androiddev@asos.com or follow us on Twitter @ASOS_Heretohelp<br><br>Beta it! Want to help us test out our newest, coolest app features? Become a beta tester: https://goo.gl/aHs7zy\"\u001b[39;49;00m,\n",
      "  \u001b[94m\"developer\"\u001b[39;49;00m: \u001b[33m\"ASOS\"\u001b[39;49;00m,\n",
      "  \u001b[94m\"developerAddress\"\u001b[39;49;00m: \u001b[33m\"ASOS.com Ltd, Greater London House, Hampstead Road, London, NW1 7FB\"\u001b[39;49;00m,\n",
      "  \u001b[94m\"developerEmail\"\u001b[39;49;00m: \u001b[33m\"androiddev@asos.com\"\u001b[39;49;00m,\n",
      "  \u001b[94m\"developerId\"\u001b[39;49;00m: \u001b[33m\"ASOS\"\u001b[39;49;00m,\n",
      "  \u001b[94m\"developerInternalID\"\u001b[39;49;00m: \u001b[33m\"9171675857388311569\"\u001b[39;49;00m,\n",
      "  \u001b[94m\"developerWebsite\"\u001b[39;49;00m: \u001b[33m\"http://www.asos.com\"\u001b[39;49;00m,\n",
      "  \u001b[94m\"editorsChoice\"\u001b[39;49;00m: \u001b[34mfalse\u001b[39;49;00m,\n",
      "  \u001b[94m\"free\"\u001b[39;49;00m: \u001b[34mtrue\u001b[39;49;00m,\n",
      "  \u001b[94m\"genre\"\u001b[39;49;00m: \u001b[33m\"Shopping\"\u001b[39;49;00m,\n",
      "  \u001b[94m\"genreId\"\u001b[39;49;00m: \u001b[33m\"SHOPPING\"\u001b[39;49;00m,\n",
      "  \u001b[94m\"headerImage\"\u001b[39;49;00m: \u001b[33m\"https://play-lh.googleusercontent.com/6zlRdjaz9XWvbywzvyctdRFFIwSUBmnkvsd3wLJ8w3X-u5auwtZSl418Vb8VPTIZqkEA\"\u001b[39;49;00m,\n",
      "  \u001b[94m\"histogram\"\u001b[39;49;00m: [\n",
      "    \u001b[34m11161\u001b[39;49;00m,\n",
      "    \u001b[34m2955\u001b[39;49;00m,\n",
      "    \u001b[34m7916\u001b[39;49;00m,\n",
      "    \u001b[34m45555\u001b[39;49;00m,\n",
      "    \u001b[34m350873\u001b[39;49;00m\n",
      "  ],\n",
      "  \u001b[94m\"icon\"\u001b[39;49;00m: \u001b[33m\"https://play-lh.googleusercontent.com/JixlJRjgBSML-SIan7dzcNlim1n7AMIKCzTOOEpKhFxDV89ScdtW4cReCPHyGGd-0Q\"\u001b[39;49;00m,\n",
      "  \u001b[94m\"inAppProductPrice\"\u001b[39;49;00m: \u001b[34mnull\u001b[39;49;00m,\n",
      "  \u001b[94m\"installs\"\u001b[39;49;00m: \u001b[33m\"10,000,000+\"\u001b[39;49;00m,\n",
      "  \u001b[94m\"minInstalls\"\u001b[39;49;00m: \u001b[34m10000000\u001b[39;49;00m,\n",
      "  \u001b[94m\"offersIAP\"\u001b[39;49;00m: \u001b[34mfalse\u001b[39;49;00m,\n",
      "  \u001b[94m\"originalPrice\"\u001b[39;49;00m: \u001b[34mnull\u001b[39;49;00m,\n",
      "  \u001b[94m\"price\"\u001b[39;49;00m: \u001b[34m0\u001b[39;49;00m,\n",
      "  \u001b[94m\"privacyPolicy\"\u001b[39;49;00m: \u001b[33m\"http://www.asos.com/infopages/pgeprivacy.aspx\"\u001b[39;49;00m,\n",
      "  \u001b[94m\"ratings\"\u001b[39;49;00m: \u001b[34m418460\u001b[39;49;00m,\n",
      "  \u001b[94m\"recentChanges\"\u001b[39;49;00m: \u001b[33m\"Happy St. Patrick's Day! Keep an eye out for discounts around the app in St. Paddy's honour... \\ud83d\\udc40\\r\\n\\r\\nGood news for our Chromebook users - you told us there was a pesky bug with product images and we have good news... It's fixed in this update! \\ud83d\\ude18\\r\\n\\r\\nIn case you missed it, some of our recent updates have included:\\r\\n\\u2022 A search bar for finding brands when filtering\\r\\n\\u2022 Enhanced Buy The Look listings\"\u001b[39;49;00m,\n",
      "  \u001b[94m\"recentChangesHTML\"\u001b[39;49;00m: \u001b[33m\"Happy St. Patrick&#39;s Day! Keep an eye out for discounts around the app in St. Paddy&#39;s honour... \\ud83d\\udc40<br><br>Good news for our Chromebook users - you told us there was a pesky bug with product images and we have good news... It&#39;s fixed in this update! \\ud83d\\ude18<br><br>In case you missed it, some of our recent updates have included:<br>\\u2022 A search bar for finding brands when filtering<br>\\u2022 Enhanced Buy The Look listings\"\u001b[39;49;00m,\n",
      "  \u001b[94m\"released\"\u001b[39;49;00m: \u001b[33m\"Oct 8, 2013\"\u001b[39;49;00m,\n",
      "  \u001b[94m\"reviews\"\u001b[39;49;00m: \u001b[34m145558\u001b[39;49;00m,\n",
      "  \u001b[94m\"sale\"\u001b[39;49;00m: \u001b[34mfalse\u001b[39;49;00m,\n",
      "  \u001b[94m\"saleText\"\u001b[39;49;00m: \u001b[34mnull\u001b[39;49;00m,\n",
      "  \u001b[94m\"saleTime\"\u001b[39;49;00m: \u001b[34mnull\u001b[39;49;00m,\n",
      "  \u001b[94m\"score\"\u001b[39;49;00m: \u001b[34m4.7254205\u001b[39;49;00m,\n",
      "  \u001b[94m\"screenshots\"\u001b[39;49;00m: [\n",
      "    \u001b[33m\"https://play-lh.googleusercontent.com/osX9MexhHBYYqt0p7DBCcEDdz8a_ndGxRHqW7DNaOrHINBTl4vXOO86gLbkPXxxPS5ef\"\u001b[39;49;00m,\n",
      "    \u001b[33m\"https://play-lh.googleusercontent.com/KL477OaM_5t3E6mwo3GNf8eQHxnZByCjp7EEJae-rj4wwFYUiYCw78yxDcWFRHB9xi6T\"\u001b[39;49;00m,\n",
      "    \u001b[33m\"https://play-lh.googleusercontent.com/BKoFyygvF685y890q8o29FtwVo8zx-j7S0a4csR7J3zi48BuI-vw1xGNPlRHvp7keaY\"\u001b[39;49;00m,\n",
      "    \u001b[33m\"https://play-lh.googleusercontent.com/M_Bz_g7btFXRxt7zLFnNvKCnV6CkBhZoU9JkI3mDITj3UcqNDhFNYuH_t2QDM6N59b4\"\u001b[39;49;00m,\n",
      "    \u001b[33m\"https://play-lh.googleusercontent.com/DYKR3wJL7-1iNDFHrOo-4Gn_VWkmNzIEgsL2n6LHB7J_zkEz8meM0siguWCa1snJPEgs\"\u001b[39;49;00m,\n",
      "    \u001b[33m\"https://play-lh.googleusercontent.com/j1i6C8tf2mo6Jkx4ANLoXf15mpMnoaGH-Y66iNzG6Ci-8rD-pwNcLUNjgTUhpdbNSAU\"\u001b[39;49;00m,\n",
      "    \u001b[33m\"https://play-lh.googleusercontent.com/KwInexNj2D2iGdmj9OnQh0aXC2GrWoBchp-OKZyjHNOFXR-5h-anRKj5LBE7EBMWKBk\"\u001b[39;49;00m,\n",
      "    \u001b[33m\"https://play-lh.googleusercontent.com/YcxPPptf6MP7deVj8IEZQJQiU__Oi1Ry-6lFS9p_rm_rbg31_7sOiJdEvrlFBraipHs\"\u001b[39;49;00m,\n",
      "    \u001b[33m\"https://play-lh.googleusercontent.com/ijCI7kYAkxsZIeOlkIUXYQWyndTqLK4QydimQRgTpROwwPuuy3Ffn52bFB3MEKS1v_k\"\u001b[39;49;00m,\n",
      "    \u001b[33m\"https://play-lh.googleusercontent.com/lSBLdVO_Tks_8NV4aszv6a5uXl8_RbETMYXVzLUpA1LiTrB7CcqSjwYJfg3_kk_gRo4\"\u001b[39;49;00m,\n",
      "    \u001b[33m\"https://play-lh.googleusercontent.com/BBvhiT6lCoAGQbtTl8THExAJGvd2tGocPQKu69wXg_PxH8asYph2tF_AZJB9B45duZY\"\u001b[39;49;00m,\n",
      "    \u001b[33m\"https://play-lh.googleusercontent.com/kt2UMiJSIloZwKCiDXZQY7tQx5Ap016rfy3mHHGN16-jTYBGUy-y1w_Zj5TI4rRcRztX\"\u001b[39;49;00m,\n",
      "    \u001b[33m\"https://play-lh.googleusercontent.com/Q0otLKNxZKpGvzSMhBv0fGrQARhqMhRXJvSqoC0jxwR_UpDlrXZDEU0bpkbXZj93aAA\"\u001b[39;49;00m,\n",
      "    \u001b[33m\"https://play-lh.googleusercontent.com/xgOuNSbvqymhEqAJ1m5iI_98aPaOhjzzvoWKy1NjHlUfGhOeRbkps4kmAX2_3hVdb_M\"\u001b[39;49;00m,\n",
      "    \u001b[33m\"https://play-lh.googleusercontent.com/qLeAcDbsAfiDALfZRZUDmsuKynIeLxvcv6Dzx2VjskJLE8BhXqe6_vISYw_pvxYxmw0\"\u001b[39;49;00m\n",
      "  ],\n",
      "  \u001b[94m\"size\"\u001b[39;49;00m: \u001b[33m\"25M\"\u001b[39;49;00m,\n",
      "  \u001b[94m\"summary\"\u001b[39;49;00m: \u001b[33m\"Shop 850+brands, latest trends & new in, get your daily fashion fix on our app.\"\u001b[39;49;00m,\n",
      "  \u001b[94m\"summaryHTML\"\u001b[39;49;00m: \u001b[33m\"Shop 850+brands, latest trends &amp; new in, get your daily fashion fix on our app.\"\u001b[39;49;00m,\n",
      "  \u001b[94m\"title\"\u001b[39;49;00m: \u001b[33m\"ASOS\"\u001b[39;49;00m,\n",
      "  \u001b[94m\"updated\"\u001b[39;49;00m: \u001b[34m1615667244\u001b[39;49;00m,\n",
      "  \u001b[94m\"url\"\u001b[39;49;00m: \u001b[33m\"https://play.google.com/store/apps/details?id=com.asos.app&hl=en&gl=uk\"\u001b[39;49;00m,\n",
      "  \u001b[94m\"version\"\u001b[39;49;00m: \u001b[33m\"4.46.0\"\u001b[39;49;00m,\n",
      "  \u001b[94m\"video\"\u001b[39;49;00m: \u001b[33m\"https://www.youtube.com/embed/58d1dcYv7HE?ps=play&vq=large&rel=0&autohide=1&showinfo=0\"\u001b[39;49;00m,\n",
      "  \u001b[94m\"videoImage\"\u001b[39;49;00m: \u001b[33m\"https://i.ytimg.com/vi/58d1dcYv7HE/hqdefault.jpg\"\u001b[39;49;00m\n",
      "}\n",
      "\n"
     ]
    }
   ],
   "source": [
    "print_json(app_infos[0])"
   ]
  },
  {
   "cell_type": "markdown",
   "metadata": {
    "colab_type": "text",
    "id": "dAOdYGkYODcZ"
   },
   "source": [
    "## Print Logos\n",
    "\n",
    "This contains lots of information including the number of ratings, number of reviews and number of ratings for each score (1 to 5). We can select what is relevant and even some of the info we like. For example, we can print all their logos. "
   ]
  },
  {
   "cell_type": "code",
   "execution_count": 19,
   "metadata": {
    "colab": {
     "base_uri": "https://localhost:8080/",
     "height": 291
    },
    "colab_type": "code",
    "id": "ni2zGSIIa6WT",
    "outputId": "d5888bc7-c67f-4254-ff9c-444ea9ff5376"
   },
   "outputs": [
    {
     "data": {
      "image/png": "[encoded data removed]",
      "text/plain": [
       "<Figure size 1008x360 with 2 Axes>"
      ]
     },
     "metadata": {
      "image/png": {
       "height": 302,
       "width": 137
      }
     },
     "output_type": "display_data"
    }
   ],
   "source": [
    "%matplotlib inline\n",
    "%config InlineBackend.figure_format='retina'\n",
    "\n",
    "sns.set(style='whitegrid', palette='muted', font_scale=1.2)\n",
    "\n",
    "# Function to format and get the title\n",
    "def format_title(title):\n",
    "    sep_index = title.find(':') if title.find(':') != -1 else title.find('-')\n",
    "    \n",
    "    if sep_index != -1:\n",
    "        title = title[:sep_index]\n",
    "    return title[:10]\n",
    "\n",
    "# Print logos and titles\n",
    "fig, axs = plt.subplots(2, len(app_infos) // 2, figsize=(14, 5))\n",
    "\n",
    "for i, ax in enumerate(axs.flat):\n",
    "    ai = app_infos[i]\n",
    "    img = plt.imread(ai['icon'])\n",
    "    ax.imshow(img)\n",
    "    ax.set_title(format_title(ai['title']))\n",
    "    ax.axis('off')"
   ]
  },
  {
   "cell_type": "markdown",
   "metadata": {
    "colab_type": "text",
    "id": "r-TwrzCHPJn0"
   },
   "source": [
    "We'll store the app information for later by converting the JSON objects into a Pandas dataframe and saving the result into a CSV file:"
   ]
  },
  {
   "cell_type": "code",
   "execution_count": 20,
   "metadata": {
    "colab": {},
    "colab_type": "code",
    "id": "JJeUc7xjBxuq"
   },
   "outputs": [],
   "source": [
    "# App Data into Pandas DF and store it\n",
    "app_infos_df = pd.DataFrame(app_infos)\n",
    "app_infos_df.to_csv('./apps.csv', index=None, header=True)"
   ]
  },
  {
   "cell_type": "markdown",
   "metadata": {
    "colab_type": "text",
    "id": "mXqklWjwPLVv"
   },
   "source": [
    "## Scraping App Reviews\n",
    "\n",
    "In an ideal world, we would get all the reviews. But there are lots of them and we're scraping the data. That wouldn't be very polite. What should we do?\n",
    "\n",
    "We want:\n",
    "\n",
    "- Balanced dataset - roughly the same number of reviews for each score (1-5)\n",
    "- A representative sample of the reviews for each app\n",
    "\n",
    "We can satisfy the first requirement by using the scraping package option to filter the review score. For the second, we'll sort the reviews by their helpfulness, which are the reviews that Google Play thinks are most important. Just in case, we'll get a subset from the newest, too:\n",
    "\n",
    "See https://github.com/JoMingyu/google-play-scraper for configurations of function ``google_play_scraper.reviews``."
   ]
  },
  {
   "cell_type": "code",
   "execution_count": 21,
   "metadata": {},
   "outputs": [
    {
     "data": {
      "text/plain": [
       "[{'reviewId': 'gp:AOqpTOGbViDdKrBo0qwEaWDXPIH4gei7czGpxReNgUG8USDFGkp2sFZmAmPccUMagWRsPFohQzl5z63nOxOdsJ8',\n",
       "  'userName': 'YURIPRIME',\n",
       "  'userImage': 'https://play-lh.googleusercontent.com/a-/AOh14GgfbCCTXsRMaZrD9yERjxgaEHYqGixRcJVKy7YPPA',\n",
       "  'content': \"This game makes me relax and put all my problems aside and I really appreciate that. The background music, the penguins, the environment and the gameplay itself. This is the only game that makes me wanna watch all the ads just for the sake getting more stuff like free chest, multiply rewards, and other stuff. This game is really amazing ! I don't find it annoying with the ads, some ads are just straight up funny. Loved the game ! Keep up the good work.\",\n",
       "  'score': 5,\n",
       "  'thumbsUpCount': 22,\n",
       "  'reviewCreatedVersion': '1.31.4',\n",
       "  'at': datetime.datetime(2021, 3, 21, 13, 50, 52),\n",
       "  'replyContent': 'Thank you for your support.',\n",
       "  'repliedAt': datetime.datetime(2021, 3, 21, 15, 21, 31)}]"
      ]
     },
     "execution_count": 21,
     "metadata": {},
     "output_type": "execute_result"
    }
   ],
   "source": [
    "# This is an example of the function google_play_scraper.reviews\n",
    "result, continuation_token = reviews(\n",
    "    'com.fantome.penguinisle',\n",
    "    lang='en', # defaults to 'en'\n",
    "    country='us', # defaults to 'us'\n",
    "    sort=Sort.MOST_RELEVANT, # defaults to Sort.MOST_RELEVANT\n",
    "    count=1, # defaults to 100\n",
    "    filter_score_with=5 # defaults to None(means all score)\n",
    ")\n",
    "result"
   ]
  },
  {
   "cell_type": "code",
   "execution_count": 22,
   "metadata": {
    "colab": {
     "base_uri": "https://localhost:8080/",
     "height": 34
    },
    "colab_type": "code",
    "id": "vRIID99ZCfjv",
    "outputId": "67e9d164-e8ca-4f9b-c273-9820923b0cf1"
   },
   "outputs": [
    {
     "name": "stderr",
     "output_type": "stream",
     "text": [
      "100%|██████████| 2/2 [00:26<00:00, 13.10s/it]\n"
     ]
    }
   ],
   "source": [
    "app_reviews = []\n",
    "\n",
    "# Loop through all the app packages and collect review for each of them\n",
    "for ap in tqdm(app_packages):\n",
    "    for score in list(range(1, 6)):\n",
    "        for sort_order in [Sort.MOST_RELEVANT, Sort.NEWEST]:\n",
    "            rvs, _ = reviews(\n",
    "                ap,\n",
    "                lang='en',\n",
    "                country='uk',\n",
    "                sort=sort_order,\n",
    "                count= 150 if score == 3 else 200,\n",
    "                filter_score_with=score\n",
    "            )\n",
    "        for r in rvs:\n",
    "            r['sortOrder'] = 'most_relevant' if sort_order == Sort.MOST_RELEVANT else 'newest'\n",
    "            r['appId'] = ap\n",
    "\n",
    "        app_reviews.extend(rvs)"
   ]
  },
  {
   "cell_type": "markdown",
   "metadata": {
    "colab_type": "text",
    "id": "gxQMuB20Wsnj"
   },
   "source": [
    "Note that we're adding the app id and sort order to each review. Here's an example for one:"
   ]
  },
  {
   "cell_type": "code",
   "execution_count": 23,
   "metadata": {
    "colab": {
     "base_uri": "https://localhost:8080/",
     "height": 275
    },
    "colab_type": "code",
    "id": "tF5exqgWCh1Q",
    "outputId": "b7fddf1f-3759-4548-b9fc-b2f43f027388"
   },
   "outputs": [
    {
     "name": "stdout",
     "output_type": "stream",
     "text": [
      "{\n",
      "  \u001b[94m\"appId\"\u001b[39;49;00m: \u001b[33m\"com.asos.app\"\u001b[39;49;00m,\n",
      "  \u001b[94m\"at\"\u001b[39;49;00m: \u001b[33m\"2021-03-24 06:44:01\"\u001b[39;49;00m,\n",
      "  \u001b[94m\"content\"\u001b[39;49;00m: \u001b[33m\"Doesn't let me order anything just keeps telling me order was successful and I immediately get another email saying order unsuccessful\"\u001b[39;49;00m,\n",
      "  \u001b[94m\"repliedAt\"\u001b[39;49;00m: \u001b[34mnull\u001b[39;49;00m,\n",
      "  \u001b[94m\"replyContent\"\u001b[39;49;00m: \u001b[34mnull\u001b[39;49;00m,\n",
      "  \u001b[94m\"reviewCreatedVersion\"\u001b[39;49;00m: \u001b[33m\"4.46.0\"\u001b[39;49;00m,\n",
      "  \u001b[94m\"reviewId\"\u001b[39;49;00m: \u001b[33m\"gp:AOqpTOECWgwZjPLvW1dxl94nbEmkNhb7wI81LW9duuzGYZA-JZxqfn8Qmw5VXBhwr1wEzsBWSZLZDFNfFZFQKQ\"\u001b[39;49;00m,\n",
      "  \u001b[94m\"score\"\u001b[39;49;00m: \u001b[34m1\u001b[39;49;00m,\n",
      "  \u001b[94m\"sortOrder\"\u001b[39;49;00m: \u001b[33m\"newest\"\u001b[39;49;00m,\n",
      "  \u001b[94m\"thumbsUpCount\"\u001b[39;49;00m: \u001b[34m0\u001b[39;49;00m,\n",
      "  \u001b[94m\"userImage\"\u001b[39;49;00m: \u001b[33m\"https://play-lh.googleusercontent.com/-lKti1p--bdY/AAAAAAAAAAI/AAAAAAAAAAA/AMZuuckgBXor30APu-iiKNCFN55_EHHGiw/photo.jpg\"\u001b[39;49;00m,\n",
      "  \u001b[94m\"userName\"\u001b[39;49;00m: \u001b[33m\"Valeria Anguiano\"\u001b[39;49;00m\n",
      "}\n",
      "\n"
     ]
    }
   ],
   "source": [
    "print_json(app_reviews[0])"
   ]
  },
  {
   "cell_type": "markdown",
   "metadata": {
    "colab_type": "text",
    "id": "R5hErADbOiMU"
   },
   "source": [
    "`repliedAt` and `replyContent` contain the developer response to the review.\n",
    "\n",
    "So, how many app reviews did we get?\n",
    "\n"
   ]
  },
  {
   "cell_type": "code",
   "execution_count": 24,
   "metadata": {
    "colab": {
     "base_uri": "https://localhost:8080/",
     "height": 34
    },
    "colab_type": "code",
    "id": "e2YjMDQDOdC5",
    "outputId": "e53a3759-d053-4bd5-8236-dcc6ff83802b"
   },
   "outputs": [
    {
     "name": "stdout",
     "output_type": "stream",
     "text": [
      "We were able to scrap:  1881  reviews\n"
     ]
    }
   ],
   "source": [
    "print(\"We were able to scrap: \", len(app_reviews), \" reviews\")"
   ]
  },
  {
   "cell_type": "markdown",
   "metadata": {
    "colab_type": "text",
    "id": "K7FZVC0nOcJ9"
   },
   "source": [
    "Let's save the reviews to a CSV file:"
   ]
  },
  {
   "cell_type": "code",
   "execution_count": 25,
   "metadata": {
    "colab": {},
    "colab_type": "code",
    "id": "1L7Nq2uwCjRI"
   },
   "outputs": [],
   "source": [
    "# Save app reviews in a CSV format\n",
    "app_reviews_df = pd.DataFrame(app_reviews)\n",
    "app_reviews_df.to_csv('./reviews.csv', index=None, header=True)"
   ]
  },
  {
   "cell_type": "code",
   "execution_count": 26,
   "metadata": {},
   "outputs": [
    {
     "data": {
      "text/html": [
       "<div>\n",
       "<style scoped>\n",
       "    .dataframe tbody tr th:only-of-type {\n",
       "        vertical-align: middle;\n",
       "    }\n",
       "\n",
       "    .dataframe tbody tr th {\n",
       "        vertical-align: top;\n",
       "    }\n",
       "\n",
       "    .dataframe thead th {\n",
       "        text-align: right;\n",
       "    }\n",
       "</style>\n",
       "<table border=\"1\" class=\"dataframe\">\n",
       "  <thead>\n",
       "    <tr style=\"text-align: right;\">\n",
       "      <th></th>\n",
       "      <th>reviewId</th>\n",
       "      <th>userName</th>\n",
       "      <th>userImage</th>\n",
       "      <th>content</th>\n",
       "      <th>score</th>\n",
       "      <th>thumbsUpCount</th>\n",
       "      <th>reviewCreatedVersion</th>\n",
       "      <th>at</th>\n",
       "      <th>replyContent</th>\n",
       "      <th>repliedAt</th>\n",
       "      <th>sortOrder</th>\n",
       "      <th>appId</th>\n",
       "    </tr>\n",
       "  </thead>\n",
       "  <tbody>\n",
       "    <tr>\n",
       "      <th>0</th>\n",
       "      <td>gp:AOqpTOECWgwZjPLvW1dxl94nbEmkNhb7wI81LW9duuz...</td>\n",
       "      <td>Valeria Anguiano</td>\n",
       "      <td>https://play-lh.googleusercontent.com/-lKti1p-...</td>\n",
       "      <td>Doesn't let me order anything just keeps telli...</td>\n",
       "      <td>1</td>\n",
       "      <td>0</td>\n",
       "      <td>4.46.0</td>\n",
       "      <td>2021-03-24 06:44:01</td>\n",
       "      <td>None</td>\n",
       "      <td>NaT</td>\n",
       "      <td>newest</td>\n",
       "      <td>com.asos.app</td>\n",
       "    </tr>\n",
       "    <tr>\n",
       "      <th>1</th>\n",
       "      <td>gp:AOqpTOGxAsJGwnh_FuPF2-WIaozOxkJlUNKhjDm9v6R...</td>\n",
       "      <td>Igor T</td>\n",
       "      <td>https://play-lh.googleusercontent.com/a-/AOh14...</td>\n",
       "      <td>Charged me the money and said they shipped the...</td>\n",
       "      <td>1</td>\n",
       "      <td>0</td>\n",
       "      <td>4.46.0</td>\n",
       "      <td>2021-03-23 21:12:48</td>\n",
       "      <td>None</td>\n",
       "      <td>NaT</td>\n",
       "      <td>newest</td>\n",
       "      <td>com.asos.app</td>\n",
       "    </tr>\n",
       "    <tr>\n",
       "      <th>2</th>\n",
       "      <td>gp:AOqpTOFhzKoXP4gtMUoYmG7qu2yOLS1Hz7d4rAGbqrS...</td>\n",
       "      <td>Fred Saimpre</td>\n",
       "      <td>https://play-lh.googleusercontent.com/a-/AOh14...</td>\n",
       "      <td>I used to enjoy shopping on this app. It's unf...</td>\n",
       "      <td>1</td>\n",
       "      <td>2</td>\n",
       "      <td>4.46.0</td>\n",
       "      <td>2021-03-23 03:50:12</td>\n",
       "      <td>None</td>\n",
       "      <td>NaT</td>\n",
       "      <td>newest</td>\n",
       "      <td>com.asos.app</td>\n",
       "    </tr>\n",
       "    <tr>\n",
       "      <th>3</th>\n",
       "      <td>gp:AOqpTOF4blkO0yXldS98RYRwxIQimhBuA74zb9S27Rt...</td>\n",
       "      <td>anisaba2</td>\n",
       "      <td>https://play-lh.googleusercontent.com/-tV40baf...</td>\n",
       "      <td>The quality of their cloths is amazing. Howeve...</td>\n",
       "      <td>1</td>\n",
       "      <td>38</td>\n",
       "      <td>4.46.0</td>\n",
       "      <td>2021-03-21 18:21:19</td>\n",
       "      <td>None</td>\n",
       "      <td>NaT</td>\n",
       "      <td>newest</td>\n",
       "      <td>com.asos.app</td>\n",
       "    </tr>\n",
       "    <tr>\n",
       "      <th>4</th>\n",
       "      <td>gp:AOqpTOHOM6J9YNXJNyOqS_Qmsot9BiTTjUjXNe69E6D...</td>\n",
       "      <td>anjali rawat</td>\n",
       "      <td>https://play-lh.googleusercontent.com/-gU-xlFq...</td>\n",
       "      <td>Its all good till you place the order but a co...</td>\n",
       "      <td>1</td>\n",
       "      <td>1</td>\n",
       "      <td>4.45.0</td>\n",
       "      <td>2021-03-20 20:30:08</td>\n",
       "      <td>None</td>\n",
       "      <td>NaT</td>\n",
       "      <td>newest</td>\n",
       "      <td>com.asos.app</td>\n",
       "    </tr>\n",
       "  </tbody>\n",
       "</table>\n",
       "</div>"
      ],
      "text/plain": [
       "                                            reviewId          userName  \\\n",
       "0  gp:AOqpTOECWgwZjPLvW1dxl94nbEmkNhb7wI81LW9duuz...  Valeria Anguiano   \n",
       "1  gp:AOqpTOGxAsJGwnh_FuPF2-WIaozOxkJlUNKhjDm9v6R...            Igor T   \n",
       "2  gp:AOqpTOFhzKoXP4gtMUoYmG7qu2yOLS1Hz7d4rAGbqrS...      Fred Saimpre   \n",
       "3  gp:AOqpTOF4blkO0yXldS98RYRwxIQimhBuA74zb9S27Rt...          anisaba2   \n",
       "4  gp:AOqpTOHOM6J9YNXJNyOqS_Qmsot9BiTTjUjXNe69E6D...      anjali rawat   \n",
       "\n",
       "                                           userImage  \\\n",
       "0  https://play-lh.googleusercontent.com/-lKti1p-...   \n",
       "1  https://play-lh.googleusercontent.com/a-/AOh14...   \n",
       "2  https://play-lh.googleusercontent.com/a-/AOh14...   \n",
       "3  https://play-lh.googleusercontent.com/-tV40baf...   \n",
       "4  https://play-lh.googleusercontent.com/-gU-xlFq...   \n",
       "\n",
       "                                             content  score  thumbsUpCount  \\\n",
       "0  Doesn't let me order anything just keeps telli...      1              0   \n",
       "1  Charged me the money and said they shipped the...      1              0   \n",
       "2  I used to enjoy shopping on this app. It's unf...      1              2   \n",
       "3  The quality of their cloths is amazing. Howeve...      1             38   \n",
       "4  Its all good till you place the order but a co...      1              1   \n",
       "\n",
       "  reviewCreatedVersion                  at replyContent repliedAt sortOrder  \\\n",
       "0               4.46.0 2021-03-24 06:44:01         None       NaT    newest   \n",
       "1               4.46.0 2021-03-23 21:12:48         None       NaT    newest   \n",
       "2               4.46.0 2021-03-23 03:50:12         None       NaT    newest   \n",
       "3               4.46.0 2021-03-21 18:21:19         None       NaT    newest   \n",
       "4               4.45.0 2021-03-20 20:30:08         None       NaT    newest   \n",
       "\n",
       "          appId  \n",
       "0  com.asos.app  \n",
       "1  com.asos.app  \n",
       "2  com.asos.app  \n",
       "3  com.asos.app  \n",
       "4  com.asos.app  "
      ]
     },
     "execution_count": 26,
     "metadata": {},
     "output_type": "execute_result"
    }
   ],
   "source": [
    "app_reviews_df.head()"
   ]
  },
  {
   "cell_type": "code",
   "execution_count": null,
   "metadata": {},
   "outputs": [],
   "source": []
  }
 ],
 "metadata": {
  "colab": {
   "collapsed_sections": [],
   "name": "07-01.create-dataset-for-sentiment-analysis.ipynb",
   "provenance": []
  },
  "kernelspec": {
   "display_name": "Python 3",
   "language": "python",
   "name": "python3"
  },
  "language_info": {
   "codemirror_mode": {
    "name": "ipython",
    "version": 3
   },
   "file_extension": ".py",
   "mimetype": "text/x-python",
   "name": "python",
   "nbconvert_exporter": "python",
   "pygments_lexer": "ipython3",
   "version": "3.7.6"
  }
 },
 "nbformat": 4,
 "nbformat_minor": 1
}
